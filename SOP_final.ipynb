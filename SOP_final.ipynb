{
 "cells": [
  {
   "cell_type": "code",
   "execution_count": 1164,
   "metadata": {},
   "outputs": [],
   "source": [
    "import numpy as np\n",
    "import sympy as sp\n",
    "import pandas as pd\n",
    "import matplotlib.pyplot as plt"
   ]
  },
  {
   "cell_type": "code",
   "execution_count": 1165,
   "metadata": {},
   "outputs": [
    {
     "data": {
      "text/plain": [
       "array([0.        , 0.00162135, 0.00647487, 0.01452909, 0.02573178,\n",
       "       0.04001028, 0.05727199, 0.07740496, 0.10027862, 0.12574463,\n",
       "       0.15363782, 0.18377731, 0.21596763, 0.25      , 0.28565372,\n",
       "       0.32269756, 0.36089127, 0.39998715, 0.43973166, 0.47986703,\n",
       "       0.52013297, 0.56026834, 0.60001285, 0.63910873, 0.67730244,\n",
       "       0.71434628, 0.75      , 0.78403237, 0.81622269, 0.84636218,\n",
       "       0.87425537, 0.89972138, 0.92259504, 0.94272801, 0.95998972,\n",
       "       0.97426822, 0.98547091, 0.99352513, 0.99837865, 1.        ])"
      ]
     },
     "execution_count": 1165,
     "metadata": {},
     "output_type": "execute_result"
    }
   ],
   "source": [
    "N=40\n",
    "\n",
    "m=6\n",
    "\n",
    "X=np.zeros(N)\n",
    "\n",
    "for i in range(1,N+1):\n",
    "    X[i-1]=0.5*(1-np.cos(((i-1)/(N-1))*np.pi))\n",
    "\n",
    "X"
   ]
  },
  {
   "cell_type": "code",
   "execution_count": 1166,
   "metadata": {},
   "outputs": [],
   "source": [
    "aplha1=1\n",
    "aplha2=1\n",
    "eita=1\n",
    "\n",
    "x=sp.symbols('x')\n",
    "lj=sp.symbols('lj',cls=sp.Function)\n",
    "lj=lj(x)"
   ]
  },
  {
   "cell_type": "code",
   "execution_count": 1167,
   "metadata": {},
   "outputs": [
    {
     "data": {
      "text/plain": [
       "(40, 40, 7)"
      ]
     },
     "execution_count": 1167,
     "metadata": {},
     "output_type": "execute_result"
    }
   ],
   "source": [
    "\n",
    "#initializing coeff matrix\n",
    "\n",
    "coeff_matrix=np.zeros((N,N,m+1))\n",
    "#lj values\n",
    "for i in range(N):\n",
    "    coeff_matrix[i][i][0]=1\n",
    "\n",
    "coeff_matrix   \n",
    "flag=True\n",
    "for i in range(1,m+1):\n",
    "    if(i==1):\n",
    "        for j in range(N):\n",
    "            for k in range(N):\n",
    "                if(j==k):\n",
    "                    continue\n",
    "                to_skip_array1=np.ones(N,dtype=bool)\n",
    "                to_skip_array1[j]=False\n",
    "                to_skip_array2=np.ones(N,dtype=bool)\n",
    "                to_skip_array2[k]=False\n",
    "                \n",
    "                \n",
    "                coeff_matrix[j][k][i]=(np.prod(X-X[j],where=to_skip_array1)/((X[j]-X[k])*np.prod(X-X[k],where=to_skip_array2)))\n",
    "    else:\n",
    "        for j in range(N):\n",
    "            for k in range(N):\n",
    "                if(j==k):\n",
    "                    continue\n",
    "                coeff_matrix[j][k][i]=i*(coeff_matrix[j][j][i-1]*coeff_matrix[j][k][1]-(coeff_matrix[j][k][i-1]/(X[j]-X[k])))\n",
    "\n",
    "#diagonal elements\n",
    "\n",
    "    for l in range(N):\n",
    "        coeff_matrix[l,l,i] = -np.sum(coeff_matrix[l,:,i])\n",
    "\n",
    "\n",
    "coeff_matrix.shape\n",
    "    \n",
    "\n"
   ]
  },
  {
   "cell_type": "code",
   "execution_count": 1168,
   "metadata": {},
   "outputs": [],
   "source": [
    "#for boundary conditions\n",
    "\n",
    "a10=(coeff_matrix[0,0,1]+2)**2-(coeff_matrix[0,0,2])/2+2*(coeff_matrix[0,0,1]+2)-1\n",
    "b10=-(coeff_matrix[0,0,1]+2)-2*a10*X[0]\n",
    "c10=1+a10*(X[0]**2)+X[0]*(coeff_matrix[0,0,1]+2)\n",
    "\n",
    "a11=-((coeff_matrix[0,0,1]+2)**2)\n",
    "b11=1-2*a11*X[0]\n",
    "c11=X[0]*(a11*X[0]-1)\n",
    "\n",
    "a12=1/2\n",
    "b12=-X[0]\n",
    "c12=(X[0]**2)/2\n",
    "\n",
    "aN0=(coeff_matrix[N-1,N-1,1]-2)**2-(coeff_matrix[N-1,N-1,2])/2+2*(coeff_matrix[N-1,N-1,1]+2)-1\n",
    "bN0=-(coeff_matrix[N-1,N-1,1]+2)-2*aN0*X[N-1]\n",
    "cN0=1+aN0*(X[N-1]**2)+X[N-1]*(coeff_matrix[N-1,N-1,1]+2)\n",
    "\n",
    "aN1=-((coeff_matrix[N-1,N-1,1]+2)**2)\n",
    "bN1=1-2*aN1*X[N-1]\n",
    "cN1=X[N-1]*(aN1*X[N-1]-1)\n",
    "\n",
    "aN2=1/2\n",
    "bN2=-X[N-1]\n",
    "cN2=(X[N-1]**2)/2\n",
    "\n",
    "\n"
   ]
  },
  {
   "cell_type": "code",
   "execution_count": 1169,
   "metadata": {},
   "outputs": [],
   "source": [
    "#FOR BOUNDARY CONDITIONS\n",
    "h10=((x-1)**2)*(a10*(x**2)+b10*x+c10)*lj\n",
    "hN0=((x-1)**2)*(aN0*(x**2)+bN0*x+cN0)*lj\n",
    "h11=((x-1)**2)*(a11*(x**2)+b11*x+c11)*lj\n",
    "h12=((x-1)**2)*(a12*(x**2)+b12*x+c12)*lj\n",
    "hN1=((x-1)**2)*(aN1*(x**2)+bN1*x+cN1)*lj\n",
    "hN2=((x-1)**2)*(aN2*(x**2)+bN2*x+cN2)*lj\n"
   ]
  },
  {
   "cell_type": "code",
   "execution_count": 1170,
   "metadata": {},
   "outputs": [
    {
     "data": {
      "text/latex": [
       "$\\displaystyle \\left(x - 1\\right)^{2} \\cdot \\left(714334.444444461 x^{2} + 1012.33333333334 x + 1.0\\right) \\operatorname{lj}{\\left(x \\right)}$"
      ],
      "text/plain": [
       "(x - 1)**2*(714334.444444461*x**2 + 1012.33333333334*x + 1.0)*lj(x)"
      ]
     },
     "execution_count": 1170,
     "metadata": {},
     "output_type": "execute_result"
    }
   ],
   "source": [
    "h10"
   ]
  },
  {
   "cell_type": "code",
   "execution_count": 1171,
   "metadata": {},
   "outputs": [],
   "source": [
    "# for non boundary conditions\n",
    "\n",
    "hj0=sp.symbols('hj0',cls=sp.Function)\n",
    "\n",
    "denominator=((X[j]**2)*(X[j]-1)**2)\n",
    "hj0=hj0(x)\n",
    "\n",
    "\n",
    "#non boundry points\n",
    "Xj=X[1:N-1]\n",
    "\n",
    "\n",
    "hj0=((x**2)*(x-1)**2)*lj\n",
    "\n",
    "diff_1_hj0=sp.diff(hj0,x,1)\n",
    "diff_2_hj0=sp.diff(hj0,x,2)\n",
    "diff_3_hj0=sp.diff(hj0,x,3)\n",
    "diff_4_hj0=sp.diff(hj0,x,4)\n",
    "diff_5_hj0=sp.diff(hj0,x,5)\n",
    "diff_6_hj0=sp.diff(hj0,x,6)\n",
    "\n",
    "# diff_6_hj0_val=diff_6_hj0.subs([(lj,coeff_matrix[:,1:N-1,0]),(x,X),(lj.diff(x,1),coeff_matrix[:,1:N-1,1]),(lj.diff(x,2),coeff_matrix[:,1:N-1,2]),(lj.diff(x,3),coeff_matrix[:,1:N-1,3])\n",
    "#                  ,(lj.diff(x,4),coeff_matrix[:,1:N-1,4]),(lj.diff(x,5),coeff_matrix[:,1:N-1,5])],(lj.diff(x,6),coeff_matrix[:,1:N-1,6])).doit()\n",
    "\n",
    "# diff_5_hj0_val=diff_5_hj0.subs([(lj,coeff_matrix[:,1:N-1,0]),(x,X),(lj.diff(x,1),coeff_matrix[:,1:N-1,1]),(lj.diff(x,2),coeff_matrix[:,1:N-1,2]),(lj.diff(x,3),coeff_matrix[:,1:N-1,3])\n",
    "#                  ,(lj.diff(x,4),coeff_matrix[:,1:N-1,4]),(lj.diff(x,5),coeff_matrix[:,1:N-1,5])]).doit()\n",
    "# diff_4_hj0_val=diff_4_hj0.subs([(lj,coeff_matrix[:,1:N-1,0]),(x,X),(lj.diff(x,1),coeff_matrix[:,1:N-1,1]),(lj.diff(x,2),coeff_matrix[:,1:N-1,2]),(lj.diff(x,3),coeff_matrix[:,1:N-1,3])\n",
    "#                  ,(lj.diff(x,4),coeff_matrix[:,1:N-1,4])]).doit()\n",
    "# diff_3_hj0_val=diff_3_hj0.subs([(lj,coeff_matrix[:,1:N-1,0]),(x,X),(lj.diff(x,1),coeff_matrix[:,1:N-1,1]),(lj.diff(x,2),coeff_matrix[:,1:N-1,2]),(lj.diff(x,3),coeff_matrix[:,1:N-1,3])]).doit()\n",
    "# diff_2_hj0_val=diff_2_hj0.subs([(lj,coeff_matrix[:,1:N-1,0]),(x,X),(lj.diff(x,1),coeff_matrix[:,1:N-1,1]),(lj.diff(x,2),coeff_matrix[:,1:N-1,2])]).doit()\n",
    "# diff_1_hj0_val=diff_2_hj0.subs([(lj,coeff_matrix[:,1:N-1,0]),(x,X),(lj.diff(x,1),coeff_matrix[:,1:N-1,1])]).doit()\n",
    "\n",
    "# diff_1_hj0_val"
   ]
  },
  {
   "cell_type": "code",
   "execution_count": 1172,
   "metadata": {},
   "outputs": [],
   "source": [
    "#for boundary conditions\n",
    "\n",
    "diff_1_h10=sp.diff(h10,x,1)\n",
    "diff_2_h10=sp.diff(h10,x,2)\n",
    "diff_3_h10=sp.diff(h10,x,3)\n",
    "diff_4_h10=sp.diff(h10,x,4)\n",
    "diff_5_h10=sp.diff(h10,x,5)\n",
    "diff_6_h10=sp.diff(h10,x,6)\n",
    "\n",
    "diff_1_hN0=sp.diff(hN0,x,1)\n",
    "diff_2_hN0=sp.diff(hN0,x,2)\n",
    "diff_3_hN0=sp.diff(hN0,x,3)\n",
    "diff_4_hN0=sp.diff(hN0,x,4)\n",
    "diff_5_hN0=sp.diff(hN0,x,5)\n",
    "diff_6_hN0=sp.diff(hN0,x,6)\n",
    "\n",
    "diff_1_h11=sp.diff(h11,x,1)\n",
    "diff_2_h11=sp.diff(h11,x,2)\n",
    "diff_3_h11=sp.diff(h11,x,3)\n",
    "diff_4_h11=sp.diff(h11,x,4)\n",
    "diff_5_h11=sp.diff(h11,x,5)\n",
    "diff_6_h11=sp.diff(h11,x,6)\n",
    "\n",
    "diff_1_h12=sp.diff(h12,x,1)\n",
    "diff_2_h12=sp.diff(h12,x,2)\n",
    "diff_3_h12=sp.diff(h12,x,3)\n",
    "diff_4_h12=sp.diff(h12,x,4)\n",
    "diff_5_h12=sp.diff(h12,x,5)\n",
    "diff_6_h12=sp.diff(h12,x,6)\n",
    "\n",
    "diff_1_hN1=sp.diff(hN1,x,1)\n",
    "diff_2_hN1=sp.diff(hN1,x,2)\n",
    "diff_3_hN1=sp.diff(hN1,x,3)\n",
    "diff_4_hN1=sp.diff(hN1,x,4)\n",
    "diff_5_hN1=sp.diff(hN1,x,5)\n",
    "diff_6_hN1=sp.diff(hN1,x,6)\n",
    "\n",
    "diff_1_hN2=sp.diff(hN2,x,1)\n",
    "diff_2_hN2=sp.diff(hN2,x,2)\n",
    "diff_3_hN2=sp.diff(hN2,x,3)\n",
    "diff_4_hN2=sp.diff(hN2,x,4)\n",
    "diff_5_hN2=sp.diff(hN2,x,5)\n",
    "diff_6_hN2=sp.diff(hN2,x,6)\n",
    "\n",
    "# diff_1_hN2_val=diff_1_hN2.subs([(x,X)]).doit()\n",
    "# diff_2_hN2_val=diff_2_hN2.subs([(x,X)]).doit()\n",
    "# diff_3_hN2_val=diff_3_hN2.subs([(x,X)]).doit()\n",
    "# diff_4_hN2_val=diff_4_hN2.subs([(x,X)]).doit()\n",
    "# diff_5_hN2_val=diff_5_hN2.subs([(x,X)]).doit()\n",
    "# diff_6_hN2_val=diff_6_hN2.subs([(x,X)]).doit()\n",
    "\n",
    "# diff_1_hN1_val=diff_1_hN1.subs([(x,X)]).doit()\n",
    "# diff_2_hN1_val=diff_2_hN1.subs([(x,X)]).doit()\n",
    "# diff_3_hN1_val=diff_3_hN1.subs([(x,X)]).doit()\n",
    "# diff_4_hN1_val=diff_4_hN1.subs([(x,X)]).doit()\n",
    "# diff_5_hN1_val=diff_5_hN1.subs([(x,X)]).doit()\n",
    "# diff_6_hN1_val=diff_6_hN1.subs([(x,X)]).doit()\n",
    "\n",
    "# diff_1_hN0_val=diff_1_hN0.subs([(x,X)]).doit()\n",
    "# diff_2_hN0_val=diff_2_hN0.subs([(x,X)]).doit()\n",
    "# diff_3_hN0_val=diff_3_hN0.subs([(x,X)]).doit()\n",
    "# diff_4_hN0_val=diff_4_hN0.subs([(x,X)]).doit()\n",
    "# diff_5_hN0_val=diff_5_hN0.subs([(x,X)]).doit()\n",
    "# diff_6_hN0_val=diff_6_hN0.subs([(x,X)]).doit()\n",
    "\n",
    "# diff_1_h12_val=diff_1_h12.subs([(x,X)]).doit()\n",
    "# diff_2_h12_val=diff_2_h12.subs([(x,X)]).doit()\n",
    "# diff_3_h12_val=diff_3_h12.subs([(x,X)]).doit()\n",
    "# diff_4_h12_val=diff_4_h12.subs([(x,X)]).doit()\n",
    "# diff_5_h12_val=diff_5_h12.subs([(x,X)]).doit()\n",
    "# diff_6_h12_val=diff_6_h12.subs([(x,X)]).doit()\n",
    "\n",
    "# diff_1_h10_val=diff_1_h10.subs([(x,X)]).doit()\n",
    "# diff_2_h10_val=diff_2_h10.subs([(x,X)]).doit()\n",
    "# diff_3_h10_val=diff_3_h10.subs([(x,X)]).doit()\n",
    "# diff_4_h10_val=diff_4_h10.subs([(x,X)]).doit()\n",
    "# diff_5_h10_val=diff_5_h10.subs([(x,X)]).doit()\n",
    "# diff_6_h10_val=diff_6_h10.subs([(x,X)]).doit()\n",
    "\n",
    "# diff_1_h11_val=diff_1_h11.subs([(x,X)]).doit()\n",
    "# diff_2_h11_val=diff_2_h11.subs([(x,X)]).doit()\n",
    "# diff_3_h11_val=diff_3_h11.subs([(x,X)]).doit()\n",
    "# diff_4_h11_val=diff_4_h11.subs([(x,X)]).doit()\n",
    "# diff_5_h11_val=diff_5_h11.subs([(x,X)]).doit()\n",
    "# diff_6_h11_val=diff_6_h11.subs([(x,X)]).doit()\n",
    "\n",
    "# diff_6_h11_val\n",
    "\n",
    "\n",
    "# diff_1_hN2_val=diff_1_hN2.subs([(x,X),(lj,coeff_matrix[:,N-1,0]),(lj.diff(x,1),coeff_matrix[:,N-1,1])]).doit()\n",
    "# diff_2_hN2_val=diff_2_hN2.subs([(x,X),(lj,coeff_matrix[:,N-1,0]),(lj.diff(x,1),coeff_matrix[:,N-1,1]),(lj.diff(x,2),coeff_matrix[:,N-1,2])]).doit()\n",
    "# diff_3_hN2_val=diff_3_hN2.subs([(x,X),(lj,coeff_matrix[:,N-1,0]),(lj.diff(x,1),coeff_matrix[:,N-1,1]),(lj.diff(x,2),coeff_matrix[:,N-1,2]),(lj.diff(x,3),coeff_matrix[:,N-1,3])]).doit()\n",
    "# diff_4_hN2_val=diff_4_hN2.subs([(x,X),(lj,coeff_matrix[:,N-1,0]),(lj.diff(x,1),coeff_matrix[:,N-1,1]),(lj.diff(x,2),coeff_matrix[:,N-1,2]),(lj.diff(x,3),coeff_matrix[:,N-1,3]),(lj.diff(x,4),coeff_matrix[:,N-1,4])]).doit()\n",
    "# diff_5_hN2_val=diff_5_hN2.subs([(x,X),(lj,coeff_matrix[:,N-1,0]),(lj.diff(x,1),coeff_matrix[:,N-1,1]),(lj.diff(x,2),coeff_matrix[:,N-1,2]),(lj.diff(x,3),coeff_matrix[:,N-1,3]),(lj.diff(x,4),coeff_matrix[:,N-1,4]),(lj.diff(x,5),coeff_matrix[:,N-1,5])]).doit()\n",
    "# diff_6_hN2_val=diff_6_hN2.subs([(x,X),(lj,coeff_matrix[:,N-1,0]),(lj.diff(x,1),coeff_matrix[:,N-1,1]),(lj.diff(x,2),coeff_matrix[:,N-1,2]),(lj.diff(x,3),coeff_matrix[:,N-1,3]),(lj.diff(x,4),coeff_matrix[:,N-1,4]),(lj.diff(x,5),coeff_matrix[:,N-1,5]),(lj.diff(x,6),coeff_matrix[:,N-1,6])]).doit()\n",
    "\n",
    "# diff_1_hN1_val=diff_1_hN1.subs([(x,X),(lj,coeff_matrix[:,N-1,0]),(lj.diff(x,1),coeff_matrix[:,N-1,1])]).doit()\n",
    "# diff_2_hN1_val=diff_2_hN1.subs([(x,X),(lj,coeff_matrix[:,N-1,0]),(lj.diff(x,1),coeff_matrix[:,N-1,1]),(lj.diff(x,2),coeff_matrix[:,N-1,2])]).doit()\n",
    "# diff_3_hN1_val=diff_3_hN1.subs([(x,X),(lj,coeff_matrix[:,N-1,0]),(lj.diff(x,1),coeff_matrix[:,N-1,1]),(lj.diff(x,2),coeff_matrix[:,N-1,2]),(lj.diff(x,3),coeff_matrix[:,N-1,3])]).doit()\n",
    "# diff_4_hN1_val=diff_4_hN1.subs([(x,X),(lj,coeff_matrix[:,N-1,0]),(lj.diff(x,1),coeff_matrix[:,N-1,1]),(lj.diff(x,2),coeff_matrix[:,N-1,2]),(lj.diff(x,3),coeff_matrix[:,N-1,3]),(lj.diff(x,4),coeff_matrix[:,N-1,4])]).doit()\n",
    "# diff_5_hN1_val=diff_5_hN1.subs([(x,X),(lj,coeff_matrix[:,N-1,0]),(lj.diff(x,1),coeff_matrix[:,N-1,1]),(lj.diff(x,2),coeff_matrix[:,N-1,2]),(lj.diff(x,3),coeff_matrix[:,N-1,3]),(lj.diff(x,4),coeff_matrix[:,N-1,4]),(lj.diff(x,5),coeff_matrix[:,N-1,5])]).doit()\n",
    "# diff_6_hN1_val=diff_6_hN1.subs([(x,X),(lj,coeff_matrix[:,N-1,0]),(lj.diff(x,1),coeff_matrix[:,N-1,1]),(lj.diff(x,2),coeff_matrix[:,N-1,2]),(lj.diff(x,3),coeff_matrix[:,N-1,3]),(lj.diff(x,4),coeff_matrix[:,N-1,4]),(lj.diff(x,5),coeff_matrix[:,N-1,5]),(lj.diff(x,6),coeff_matrix[:,N-1,6])]).doit()\n",
    "\n",
    "# diff_1_hN0_val=diff_1_hN0.subs([(x,X),(lj,coeff_matrix[:,N-1,0]),(lj.diff(x,1),coeff_matrix[:,N-1,1])]).doit()\n",
    "# diff_2_hN0_val=diff_2_hN0.subs([(x,X),(lj,coeff_matrix[:,N-1,0]),(lj.diff(x,1),coeff_matrix[:,N-1,1]),(lj.diff(x,2),coeff_matrix[:,N-1,2])]).doit()\n",
    "# diff_3_hN0_val=diff_3_hN0.subs([(x,X),(lj,coeff_matrix[:,N-1,0]),(lj.diff(x,1),coeff_matrix[:,N-1,1]),(lj.diff(x,2),coeff_matrix[:,N-1,2]),(lj.diff(x,3),coeff_matrix[:,N-1,3])]).doit()\n",
    "# diff_4_hN0_val=diff_4_hN0.subs([(x,X),(lj,coeff_matrix[:,N-1,0]),(lj.diff(x,1),coeff_matrix[:,N-1,1]),(lj.diff(x,2),coeff_matrix[:,N-1,2]),(lj.diff(x,3),coeff_matrix[:,N-1,3]),(lj.diff(x,4),coeff_matrix[:,N-1,4])]).doit()\n",
    "# diff_5_hN0_val=diff_5_hN0.subs([(x,X),(lj,coeff_matrix[:,N-1,0]),(lj.diff(x,1),coeff_matrix[:,N-1,1]),(lj.diff(x,2),coeff_matrix[:,N-1,2]),(lj.diff(x,3),coeff_matrix[:,N-1,3]),(lj.diff(x,4),coeff_matrix[:,N-1,4]),(lj.diff(x,5),coeff_matrix[:,N-1,5])]).doit()\n",
    "# diff_6_hN0_val=diff_6_hN0.subs([(x,X),(lj,coeff_matrix[:,N-1,0]),(lj.diff(x,1),coeff_matrix[:,N-1,1]),(lj.diff(x,2),coeff_matrix[:,N-1,2]),(lj.diff(x,3),coeff_matrix[:,N-1,3]),(lj.diff(x,4),coeff_matrix[:,N-1,4]),(lj.diff(x,5),coeff_matrix[:,N-1,5]),(lj.diff(x,6),coeff_matrix[:,N-1,6])]).doit()\n",
    "\n",
    "# diff_1_h12_val=diff_1_h12.subs([(x,X),(lj,coeff_matrix[:,0,0]),(lj.diff(x,1),coeff_matrix[:,0,1])]).doit()\n",
    "# diff_2_h12_val=diff_2_h12.subs([(x,X),(lj,coeff_matrix[:,0,0]),(lj.diff(x,1),coeff_matrix[:,0,1]),(lj.diff(x,2),coeff_matrix[:,0,2])]).doit()\n",
    "# diff_3_h12_val=diff_3_h12.subs([(x,X),(lj,coeff_matrix[:,0,0]),(lj.diff(x,1),coeff_matrix[:,0,1]),(lj.diff(x,2),coeff_matrix[:,0,2]),(lj.diff(x,3),coeff_matrix[:,0,3])]).doit()\n",
    "# diff_4_h12_val=diff_4_h12.subs([(x,X),(lj,coeff_matrix[:,0,0]),(lj.diff(x,1),coeff_matrix[:,0,1]),(lj.diff(x,2),coeff_matrix[:,0,2]),(lj.diff(x,3),coeff_matrix[:,0,3]),(lj.diff(x,4),coeff_matrix[:,0,4])]).doit()\n",
    "# diff_5_h12_val=diff_5_h12.subs([(x,X),(lj,coeff_matrix[:,0,0]),(lj.diff(x,1),coeff_matrix[:,0,1]),(lj.diff(x,2),coeff_matrix[:,0,2]),(lj.diff(x,3),coeff_matrix[:,0,3]),(lj.diff(x,4),coeff_matrix[:,0,4]),(lj.diff(x,5),coeff_matrix[:,0,5])]).doit()\n",
    "# diff_6_h12_val=diff_6_h12.subs([(x,X),(lj,coeff_matrix[:,0,0]),(lj.diff(x,1),coeff_matrix[:,0,1]),(lj.diff(x,2),coeff_matrix[:,0,2]),(lj.diff(x,3),coeff_matrix[:,0,3]),(lj.diff(x,4),coeff_matrix[:,0,4]),(lj.diff(x,5),coeff_matrix[:,0,5]),(lj.diff(x,6),coeff_matrix[:,0,6])]).doit()\n",
    "\n",
    "# diff_1_h10_val=diff_1_h10.subs([(x,X),(lj,coeff_matrix[:,0,0]),(lj.diff(x,1),coeff_matrix[:,0,1])]).doit()\n",
    "# diff_2_h10_val=diff_2_h10.subs([(x,X),(lj,coeff_matrix[:,0,0]),(lj.diff(x,1),coeff_matrix[:,0,1]),(lj.diff(x,2),coeff_matrix[:,0,2])]).doit()\n",
    "# diff_3_h10_val=diff_3_h10.subs([(x,X),(lj,coeff_matrix[:,0,0]),(lj.diff(x,1),coeff_matrix[:,0,1]),(lj.diff(x,2),coeff_matrix[:,0,2]),(lj.diff(x,3),coeff_matrix[:,0,3])]).doit()\n",
    "# diff_4_h10_val=diff_4_h10.subs([(x,X),(lj,coeff_matrix[:,0,0]),(lj.diff(x,1),coeff_matrix[:,0,1]),(lj.diff(x,2),coeff_matrix[:,0,2]),(lj.diff(x,3),coeff_matrix[:,0,3]),(lj.diff(x,4),coeff_matrix[:,0,4])]).doit()\n",
    "# diff_5_h10_val=diff_5_h10.subs([(x,X),(lj,coeff_matrix[:,0,0]),(lj.diff(x,1),coeff_matrix[:,0,1]),(lj.diff(x,2),coeff_matrix[:,0,2]),(lj.diff(x,3),coeff_matrix[:,0,3]),(lj.diff(x,4),coeff_matrix[:,0,4]),(lj.diff(x,5),coeff_matrix[:,0,5])]).doit()\n",
    "# diff_6_h10_val=diff_6_h10.subs([(x,X),(lj,coeff_matrix[:,0,0]),(lj.diff(x,1),coeff_matrix[:,0,1]),(lj.diff(x,2),coeff_matrix[:,0,2]),(lj.diff(x,3),coeff_matrix[:,0,3]),(lj.diff(x,4),coeff_matrix[:,0,4]),(lj.diff(x,5),coeff_matrix[:,0,5]),(lj.diff(x,6),coeff_matrix[:,0,6])]).doit()\n",
    "\n",
    "# diff_1_h11_val=diff_1_h11.subs([(x,X),(lj,coeff_matrix[:,0,0]),(lj.diff(x,1),coeff_matrix[:,0,1])]).doit()\n",
    "# diff_2_h11_val=diff_2_h11.subs([(x,X),(lj,coeff_matrix[:,0,0]),(lj.diff(x,1),coeff_matrix[:,0,1]),(lj.diff(x,2),coeff_matrix[:,0,2])]).doit()\n",
    "# diff_3_h11_val=diff_3_h11.subs([(x,X),(lj,coeff_matrix[:,0,0]),(lj.diff(x,1),coeff_matrix[:,0,1]),(lj.diff(x,2),coeff_matrix[:,0,2]),(lj.diff(x,3),coeff_matrix[:,0,3])]).doit()\n",
    "# diff_4_h11_val=diff_4_h11.subs([(x,X),(lj,coeff_matrix[:,0,0]),(lj.diff(x,1),coeff_matrix[:,0,1]),(lj.diff(x,2),coeff_matrix[:,0,2]),(lj.diff(x,3),coeff_matrix[:,0,3]),(lj.diff(x,4),coeff_matrix[:,0,4])]).doit()\n",
    "# diff_5_h11_val=diff_5_h11.subs([(x,X),(lj,coeff_matrix[:,0,0]),(lj.diff(x,1),coeff_matrix[:,0,1]),(lj.diff(x,2),coeff_matrix[:,0,2]),(lj.diff(x,3),coeff_matrix[:,0,3]),(lj.diff(x,4),coeff_matrix[:,0,4]),(lj.diff(x,5),coeff_matrix[:,0,5])]).doit()\n",
    "# diff_6_h11_val=diff_6_h11.subs([(x,X),(lj,coeff_matrix[:,0,0]),(lj.diff(x,1),coeff_matrix[:,0,1]),(lj.diff(x,2),coeff_matrix[:,0,2]),(lj.diff(x,3),coeff_matrix[:,0,3]),(lj.diff(x,4),coeff_matrix[:,0,4]),(lj.diff(x,5),coeff_matrix[:,0,5]),(lj.diff(x,6),coeff_matrix[:,0,6])]).doit()\n",
    "\n",
    "\n"
   ]
  },
  {
   "cell_type": "code",
   "execution_count": 1173,
   "metadata": {},
   "outputs": [
    {
     "data": {
      "text/plain": [
       "array([1.        , 1.00162266, 1.00649588, 1.01463515, 1.0260657 ,\n",
       "       1.04082147, 1.05894379, 1.08047954, 1.10547888, 1.13399254,\n",
       "       1.16606849, 1.20174818, 1.2410622 , 1.28402542, 1.3306316 ,\n",
       "       1.38084766, 1.43460746, 1.49180553, 1.55229062, 1.61585953,\n",
       "       1.68225132, 1.75114234, 1.82214221, 1.89479136, 1.96856026,\n",
       "       2.04285079, 2.11700002, 2.19028654, 2.26193963, 2.33115109,\n",
       "       2.39708969, 2.45891792, 2.51581056, 2.56697461, 2.61166963,\n",
       "       2.64922785, 2.67907319, 2.70073817, 2.71387812, 2.71828183])"
      ]
     },
     "execution_count": 1173,
     "metadata": {},
     "output_type": "execute_result"
    }
   ],
   "source": [
    "\n",
    "eita_term=np.exp(eita*X)\n",
    "eita_term"
   ]
  },
  {
   "cell_type": "code",
   "execution_count": 1174,
   "metadata": {},
   "outputs": [
    {
     "data": {
      "text/latex": [
       "$\\displaystyle \\left(x - 1\\right)^{2} \\cdot \\left(1428668.88888892 x + 1012.33333333334\\right) \\operatorname{lj}{\\left(x \\right)} + \\left(x - 1\\right)^{2} \\cdot \\left(714334.444444461 x^{2} + 1012.33333333334 x + 1.0\\right) \\frac{d}{d x} \\operatorname{lj}{\\left(x \\right)} + \\left(2 x - 2\\right) \\left(714334.444444461 x^{2} + 1012.33333333334 x + 1.0\\right) \\operatorname{lj}{\\left(x \\right)}$"
      ],
      "text/plain": [
       "(x - 1)**2*(1428668.88888892*x + 1012.33333333334)*lj(x) + (x - 1)**2*(714334.444444461*x**2 + 1012.33333333334*x + 1.0)*Derivative(lj(x), x) + (2*x - 2)*(714334.444444461*x**2 + 1012.33333333334*x + 1.0)*lj(x)"
      ]
     },
     "execution_count": 1174,
     "metadata": {},
     "output_type": "execute_result"
    }
   ],
   "source": [
    "diff_1_h10"
   ]
  },
  {
   "cell_type": "code",
   "execution_count": 1175,
   "metadata": {},
   "outputs": [
    {
     "data": {
      "text/plain": [
       "array([1010.33333333,    0.        ,    0.        ,    0.        ,\n",
       "          0.        ,    0.        ,    0.        ,    0.        ,\n",
       "          0.        ,    0.        ,    0.        ,    0.        ,\n",
       "          0.        ,    0.        ,    0.        ,    0.        ,\n",
       "          0.        ,    0.        ,    0.        ,    0.        ,\n",
       "          0.        ,    0.        ,    0.        ,    0.        ,\n",
       "          0.        ,    0.        ,    0.        ,    0.        ,\n",
       "          0.        ,    0.        ,    0.        ,    0.        ,\n",
       "          0.        ,    0.        ,    0.        ,    0.        ,\n",
       "          0.        ,    0.        ,    0.        ,    0.        ])"
      ]
     },
     "execution_count": 1175,
     "metadata": {},
     "output_type": "execute_result"
    }
   ],
   "source": [
    "#hj(xi) for boundary conditions\n",
    "h10_1=np.zeros(N)\n",
    "h10_1[0]=1\n",
    "for i in range(N):\n",
    "    exp=diff_1_h10.subs(lj,coeff_matrix[i,0,0])\n",
    "    exp2=exp.subs([(x,X[i]),(lj.diff(x,1),coeff_matrix[i,0,1])]).doit()\n",
    "    h10_1[i]=exp2\n",
    "    \n",
    "h10_1"
   ]
  },
  {
   "cell_type": "code",
   "execution_count": 1176,
   "metadata": {},
   "outputs": [
    {
     "data": {
      "text/plain": [
       "array([1424621.55555559,       0.        ,       0.        ,\n",
       "             0.        ,       0.        ,       0.        ,\n",
       "             0.        ,       0.        ,       0.        ,\n",
       "             0.        ,       0.        ,       0.        ,\n",
       "             0.        ,       0.        ,       0.        ,\n",
       "             0.        ,       0.        ,       0.        ,\n",
       "             0.        ,       0.        ,       0.        ,\n",
       "             0.        ,       0.        ,       0.        ,\n",
       "             0.        ,       0.        ,       0.        ,\n",
       "             0.        ,       0.        ,       0.        ,\n",
       "             0.        ,       0.        ,       0.        ,\n",
       "             0.        ,       0.        ,       0.        ,\n",
       "             0.        ,       0.        ,       0.        ,\n",
       "             0.        ])"
      ]
     },
     "execution_count": 1176,
     "metadata": {},
     "output_type": "execute_result"
    }
   ],
   "source": [
    "#hj(xi) for boundary conditions\n",
    "h10_2=np.zeros(N)\n",
    "h10_2[0]=1\n",
    "for i in range(N):\n",
    "    exp=diff_2_h10.subs(lj,coeff_matrix[i,0,0])\n",
    "    exp2=exp.subs([(x,X[i]),(lj.diff(x,1),coeff_matrix[i,0,1]),(lj.diff(x,2),coeff_matrix[i,0,2])]).doit()\n",
    "    h10_2[i]=exp2\n",
    "\n",
    "h10_2"
   ]
  },
  {
   "cell_type": "code",
   "execution_count": 1177,
   "metadata": {},
   "outputs": [
    {
     "data": {
      "text/plain": [
       "array([-8565939.33333354,        0.        ,        0.        ,\n",
       "              0.        ,        0.        ,        0.        ,\n",
       "              0.        ,        0.        ,        0.        ,\n",
       "              0.        ,        0.        ,        0.        ,\n",
       "              0.        ,        0.        ,        0.        ,\n",
       "              0.        ,        0.        ,        0.        ,\n",
       "              0.        ,        0.        ,        0.        ,\n",
       "              0.        ,        0.        ,        0.        ,\n",
       "              0.        ,        0.        ,        0.        ,\n",
       "              0.        ,        0.        ,        0.        ,\n",
       "              0.        ,        0.        ,        0.        ,\n",
       "              0.        ,        0.        ,        0.        ,\n",
       "              0.        ,        0.        ,        0.        ,\n",
       "              0.        ])"
      ]
     },
     "execution_count": 1177,
     "metadata": {},
     "output_type": "execute_result"
    }
   ],
   "source": [
    "h10_3=np.zeros(N)\n",
    "h10_3[0]=1\n",
    "for i in range(N):\n",
    "    exp=diff_3_h10.subs(lj,coeff_matrix[i,0,0])\n",
    "    exp2=exp.subs([(x,X[i]),(lj.diff(x,1),coeff_matrix[i,0,1]),(lj.diff(x,2),coeff_matrix[i,0,2]),(lj.diff(x,3),coeff_matrix[i,0,3])]).doit()\n",
    "    h10_3[i]=exp2\n",
    "\n",
    "h10_3"
   ]
  },
  {
   "cell_type": "code",
   "execution_count": 1178,
   "metadata": {},
   "outputs": [
    {
     "data": {
      "text/plain": [
       "array([17144026.66666707,        0.        ,        0.        ,\n",
       "              0.        ,        0.        ,        0.        ,\n",
       "              0.        ,        0.        ,        0.        ,\n",
       "              0.        ,        0.        ,        0.        ,\n",
       "              0.        ,        0.        ,        0.        ,\n",
       "              0.        ,        0.        ,        0.        ,\n",
       "              0.        ,        0.        ,        0.        ,\n",
       "              0.        ,        0.        ,        0.        ,\n",
       "              0.        ,        0.        ,        0.        ,\n",
       "              0.        ,        0.        ,        0.        ,\n",
       "              0.        ,        0.        ,        0.        ,\n",
       "              0.        ,        0.        ,        0.        ,\n",
       "              0.        ,        0.        ,        0.        ,\n",
       "              0.        ])"
      ]
     },
     "execution_count": 1178,
     "metadata": {},
     "output_type": "execute_result"
    }
   ],
   "source": [
    "h10_4=np.zeros(N)\n",
    "h10_4[0]=1\n",
    "for i in range(N):\n",
    "    exp=diff_4_h10.subs(lj,coeff_matrix[i,0,0])\n",
    "    exp2=exp.subs([(x,X[i]),(lj.diff(x,1),coeff_matrix[i,0,1]),(lj.diff(x,2),coeff_matrix[i,0,2]),(lj.diff(x,3),coeff_matrix[i,0,3]),(lj.diff(x,4),coeff_matrix[i,0,4])]).doit()\n",
    "    h10_4[i]=exp2\n",
    "\n",
    "h10_4"
   ]
  },
  {
   "cell_type": "code",
   "execution_count": 1179,
   "metadata": {},
   "outputs": [
    {
     "data": {
      "text/plain": [
       "array([0., 0., 0., 0., 0., 0., 0., 0., 0., 0., 0., 0., 0., 0., 0., 0., 0.,\n",
       "       0., 0., 0., 0., 0., 0., 0., 0., 0., 0., 0., 0., 0., 0., 0., 0., 0.,\n",
       "       0., 0., 0., 0., 0., 0.])"
      ]
     },
     "execution_count": 1179,
     "metadata": {},
     "output_type": "execute_result"
    }
   ],
   "source": [
    "h10_5=np.zeros(N)\n",
    "h10_5[0]=1\n",
    "for i in range(N):\n",
    "    exp=diff_5_h10.subs(lj,coeff_matrix[i,0,0])\n",
    "    exp2=exp.subs([(x,X[i]),(lj.diff(x,1),coeff_matrix[i,0,1]),(lj.diff(x,2),coeff_matrix[i,0,2]),(lj.diff(x,3),coeff_matrix[i,0,3]),(lj.diff(x,4),coeff_matrix[i,0,4]),(lj.diff(x,5),coeff_matrix[i,0,5])]).doit()\n",
    "    h10_5[i]=exp2\n",
    "\n",
    "h10_5"
   ]
  },
  {
   "cell_type": "code",
   "execution_count": 1180,
   "metadata": {},
   "outputs": [
    {
     "data": {
      "text/plain": [
       "(40,)"
      ]
     },
     "execution_count": 1180,
     "metadata": {},
     "output_type": "execute_result"
    }
   ],
   "source": [
    "h10_6=np.zeros(N)\n",
    "h10_6[0]=1\n",
    "for i in range(N):\n",
    "    exp=diff_6_h10.subs(lj,coeff_matrix[i,0,0])\n",
    "    exp2=exp.subs([(x,X[i]),(lj.diff(x,1),coeff_matrix[i,0,1]),(lj.diff(x,2),coeff_matrix[i,0,2]),(lj.diff(x,3),coeff_matrix[i,0,3]),(lj.diff(x,4),coeff_matrix[i,0,4]),(lj.diff(x,5),coeff_matrix[i,0,5]),(lj.diff(x,6),coeff_matrix[i,0,6])]).doit()\n",
    "    h10_6[i]=exp2\n",
    "\n",
    "h10_6.shape"
   ]
  },
  {
   "cell_type": "code",
   "execution_count": 1181,
   "metadata": {},
   "outputs": [
    {
     "data": {
      "text/plain": [
       "array([0., 0., 0., 0., 0., 0., 0., 0., 0., 0., 0., 0., 0., 0., 0., 0., 0.,\n",
       "       0., 0., 0., 0., 0., 0., 0., 0., 0., 0., 0., 0., 0., 0., 0., 0., 0.,\n",
       "       0., 0., 0., 0., 0., 0.])"
      ]
     },
     "execution_count": 1181,
     "metadata": {},
     "output_type": "execute_result"
    }
   ],
   "source": [
    "h11_6=np.zeros(N)\n",
    "h11_6[0]=1\n",
    "for i in range(N):\n",
    "    exp=diff_6_h11.subs(lj,coeff_matrix[i,0,0])\n",
    "    exp2=exp.subs([(x,X[i]),(lj.diff(x,1),coeff_matrix[i,0,1]),(lj.diff(x,2),coeff_matrix[i,0,2]),(lj.diff(x,3),coeff_matrix[i,0,3]),(lj.diff(x,4),coeff_matrix[i,0,4]),(lj.diff(x,5),coeff_matrix[i,0,5]),(lj.diff(x,6),coeff_matrix[i,0,6])]).doit()\n",
    "    h11_6[i]=exp2\n",
    "\n",
    "h11_6"
   ]
  },
  {
   "cell_type": "code",
   "execution_count": 1182,
   "metadata": {},
   "outputs": [
    {
     "data": {
      "text/plain": [
       "array([0., 0., 0., 0., 0., 0., 0., 0., 0., 0., 0., 0., 0., 0., 0., 0., 0.,\n",
       "       0., 0., 0., 0., 0., 0., 0., 0., 0., 0., 0., 0., 0., 0., 0., 0., 0.,\n",
       "       0., 0., 0., 0., 0., 0.])"
      ]
     },
     "execution_count": 1182,
     "metadata": {},
     "output_type": "execute_result"
    }
   ],
   "source": [
    "h11_5=np.zeros(N)\n",
    "h11_5[0]=1\n",
    "for i in range(N):\n",
    "    \n",
    "    exp=diff_5_h11.subs(lj,coeff_matrix[i,0,0])\n",
    "    exp2=exp.subs([(x,X[i]),(lj.diff(x,1),coeff_matrix[i,0,1]),(lj.diff(x,2),coeff_matrix[i,0,2]),(lj.diff(x,3),coeff_matrix[i,0,3]),(lj.diff(x,4),coeff_matrix[i,0,4]),(lj.diff(x,5),coeff_matrix[i,0,5]),(lj.diff(x,6),coeff_matrix[i,0,6])]).doit()\n",
    "    h11_5[i]=exp2\n",
    "\n",
    "h11_5"
   ]
  },
  {
   "cell_type": "code",
   "execution_count": 1183,
   "metadata": {},
   "outputs": [
    {
     "data": {
      "text/plain": [
       "array([-24595650.66666718,         0.        ,         0.        ,\n",
       "               0.        ,         0.        ,         0.        ,\n",
       "               0.        ,         0.        ,         0.        ,\n",
       "               0.        ,         0.        ,         0.        ,\n",
       "               0.        ,         0.        ,         0.        ,\n",
       "               0.        ,         0.        ,         0.        ,\n",
       "               0.        ,         0.        ,         0.        ,\n",
       "               0.        ,         0.        ,         0.        ,\n",
       "               0.        ,         0.        ,         0.        ,\n",
       "               0.        ,         0.        ,         0.        ,\n",
       "               0.        ,         0.        ,         0.        ,\n",
       "               0.        ,         0.        ,         0.        ,\n",
       "               0.        ,         0.        ,         0.        ,\n",
       "               0.        ])"
      ]
     },
     "execution_count": 1183,
     "metadata": {},
     "output_type": "execute_result"
    }
   ],
   "source": [
    "h11_4=np.zeros(N)\n",
    "h11_4[0]=1\n",
    "for i in range(N):\n",
    "    exp=diff_4_h11.subs(lj,coeff_matrix[i,0,0])\n",
    "    exp2=exp.subs([(x,X[i]),(lj.diff(x,1),coeff_matrix[i,0,1]),(lj.diff(x,2),coeff_matrix[i,0,2]),(lj.diff(x,3),coeff_matrix[i,0,3]),(lj.diff(x,4),coeff_matrix[i,0,4]),(lj.diff(x,5),coeff_matrix[i,0,5]),(lj.diff(x,6),coeff_matrix[i,0,6])]).doit()\n",
    "    h11_4[i]=exp2\n",
    "\n",
    "h11_4"
   ]
  },
  {
   "cell_type": "code",
   "execution_count": 1184,
   "metadata": {},
   "outputs": [
    {
     "data": {
      "text/plain": [
       "array([12297831.33333359,        0.        ,        0.        ,\n",
       "              0.        ,        0.        ,        0.        ,\n",
       "              0.        ,        0.        ,        0.        ,\n",
       "              0.        ,        0.        ,        0.        ,\n",
       "              0.        ,        0.        ,        0.        ,\n",
       "              0.        ,        0.        ,        0.        ,\n",
       "              0.        ,        0.        ,        0.        ,\n",
       "              0.        ,        0.        ,        0.        ,\n",
       "              0.        ,        0.        ,        0.        ,\n",
       "              0.        ,        0.        ,        0.        ,\n",
       "              0.        ,        0.        ,        0.        ,\n",
       "              0.        ,        0.        ,        0.        ,\n",
       "              0.        ,        0.        ,        0.        ,\n",
       "              0.        ])"
      ]
     },
     "execution_count": 1184,
     "metadata": {},
     "output_type": "execute_result"
    }
   ],
   "source": [
    "h11_3=np.zeros(N)\n",
    "h11_3[0]=1\n",
    "for i in range(N):\n",
    "    exp=diff_3_h11.subs(lj,coeff_matrix[i,0,0])\n",
    "    exp2=exp.subs([(x,X[i]),(lj.diff(x,1),coeff_matrix[i,0,1]),(lj.diff(x,2),coeff_matrix[i,0,2]),(lj.diff(x,3),coeff_matrix[i,0,3]),(lj.diff(x,4),coeff_matrix[i,0,4]),(lj.diff(x,5),coeff_matrix[i,0,5]),(lj.diff(x,6),coeff_matrix[i,0,6])]).doit()\n",
    "    h11_3[i]=exp2\n",
    "\n",
    "h11_3"
   ]
  },
  {
   "cell_type": "code",
   "execution_count": 1185,
   "metadata": {},
   "outputs": [
    {
     "data": {
      "text/plain": [
       "array([-2049641.5555556,        0.       ,        0.       ,\n",
       "              0.       ,        0.       ,        0.       ,\n",
       "              0.       ,        0.       ,        0.       ,\n",
       "              0.       ,        0.       ,        0.       ,\n",
       "              0.       ,        0.       ,        0.       ,\n",
       "              0.       ,        0.       ,        0.       ,\n",
       "              0.       ,        0.       ,        0.       ,\n",
       "              0.       ,        0.       ,        0.       ,\n",
       "              0.       ,        0.       ,        0.       ,\n",
       "              0.       ,        0.       ,        0.       ,\n",
       "              0.       ,        0.       ,        0.       ,\n",
       "              0.       ,        0.       ,        0.       ,\n",
       "              0.       ,        0.       ,        0.       ,\n",
       "              0.       ])"
      ]
     },
     "execution_count": 1185,
     "metadata": {},
     "output_type": "execute_result"
    }
   ],
   "source": [
    "h11_2=np.zeros(N)\n",
    "h11_2[0]=1\n",
    "for i in range(N):\n",
    "    exp=diff_2_h11.subs(lj,coeff_matrix[i,0,0])\n",
    "    exp2=exp.subs([(x,X[i]),(lj.diff(x,1),coeff_matrix[i,0,1]),(lj.diff(x,2),coeff_matrix[i,0,2]),(lj.diff(x,3),coeff_matrix[i,0,3]),(lj.diff(x,4),coeff_matrix[i,0,4]),(lj.diff(x,5),coeff_matrix[i,0,5]),(lj.diff(x,6),coeff_matrix[i,0,6])]).doit()\n",
    "    h11_2[i]=exp2\n",
    "\n",
    "h11_2"
   ]
  },
  {
   "cell_type": "code",
   "execution_count": 1186,
   "metadata": {},
   "outputs": [
    {
     "data": {
      "text/plain": [
       "array([1., 1., 1., 1., 1., 1., 1., 1., 1., 1., 1., 1., 1., 1., 1., 1., 1.,\n",
       "       1., 1., 1., 1., 1., 1., 1., 1., 1., 1., 1., 1., 1., 1., 1., 1., 1.,\n",
       "       1., 1., 1., 1., 1., 1.])"
      ]
     },
     "execution_count": 1186,
     "metadata": {},
     "output_type": "execute_result"
    }
   ],
   "source": [
    "h11_1=np.ones(N)\n",
    "# for i in range(N):\n",
    "#     exp=diff_1_h11.subs(lj,coeff_matrix[i,0,0])\n",
    "#     exp2=exp.subs([(x,X[i]),(lj.diff(x,1),coeff_matrix[i,0,1]),(lj.diff(x,2),coeff_matrix[i,0,2]),(lj.diff(x,3),coeff_matrix[i,0,3]),(lj.diff(x,4),coeff_matrix[i,0,4]),(lj.diff(x,5),coeff_matrix[i,0,5]),(lj.diff(x,6),coeff_matrix[i,0,6])]).doit()\n",
    "#     h11_1[i]=exp2\n",
    "\n",
    "h11_1"
   ]
  },
  {
   "cell_type": "code",
   "execution_count": 1187,
   "metadata": {},
   "outputs": [
    {
     "data": {
      "text/plain": [
       "array([0., 0., 0., 0., 0., 0., 0., 0., 0., 0., 0., 0., 0., 0., 0., 0., 0.,\n",
       "       0., 0., 0., 0., 0., 0., 0., 0., 0., 0., 0., 0., 0., 0., 0., 0., 0.,\n",
       "       0., 0., 0., 0., 0., 0.])"
      ]
     },
     "execution_count": 1187,
     "metadata": {},
     "output_type": "execute_result"
    }
   ],
   "source": [
    "h12_1=np.zeros(N)\n",
    "h12_1[0]=1\n",
    "for i in range(N):\n",
    "    exp=diff_1_h12.subs(lj,coeff_matrix[i,0,0])\n",
    "    exp2=exp.subs([(x,X[i]),(lj.diff(x,1),coeff_matrix[i,0,1]),(lj.diff(x,2),coeff_matrix[i,0,2]),(lj.diff(x,3),coeff_matrix[i,0,3]),(lj.diff(x,4),coeff_matrix[i,0,4]),(lj.diff(x,5),coeff_matrix[i,0,5]),(lj.diff(x,6),coeff_matrix[i,0,6])]).doit()\n",
    "    h12_1[i]=exp2\n",
    "\n",
    "h12_1"
   ]
  },
  {
   "cell_type": "code",
   "execution_count": 1188,
   "metadata": {},
   "outputs": [
    {
     "data": {
      "text/plain": [
       "array([1., 1., 1., 1., 1., 1., 1., 1., 1., 1., 1., 1., 1., 1., 1., 1., 1.,\n",
       "       1., 1., 1., 1., 1., 1., 1., 1., 1., 1., 1., 1., 1., 1., 1., 1., 1.,\n",
       "       1., 1., 1., 1., 1., 1.])"
      ]
     },
     "execution_count": 1188,
     "metadata": {},
     "output_type": "execute_result"
    }
   ],
   "source": [
    "h12_2=np.ones(N)\n",
    "# for i in range(N):\n",
    "#     exp=diff_2_h12.subs(lj,coeff_matrix[i,0,0])\n",
    "#     exp2=exp.subs([(x,X[i]),(lj.diff(x,1),coeff_matrix[i,0,1]),(lj.diff(x,2),coeff_matrix[i,0,2]),(lj.diff(x,3),coeff_matrix[i,0,3]),(lj.diff(x,4),coeff_matrix[i,0,4]),(lj.diff(x,5),coeff_matrix[i,0,5]),(lj.diff(x,6),coeff_matrix[i,0,6])]).doit()\n",
    "#     h12_2[i]=exp2\n",
    "\n",
    "h12_2"
   ]
  },
  {
   "cell_type": "code",
   "execution_count": 1189,
   "metadata": {},
   "outputs": [
    {
     "data": {
      "text/plain": [
       "array([-6.,  0.,  0.,  0.,  0.,  0.,  0.,  0.,  0.,  0.,  0.,  0.,  0.,\n",
       "        0.,  0.,  0.,  0.,  0.,  0.,  0.,  0.,  0.,  0.,  0.,  0.,  0.,\n",
       "        0.,  0.,  0.,  0.,  0.,  0.,  0.,  0.,  0.,  0.,  0.,  0.,  0.,\n",
       "        0.])"
      ]
     },
     "execution_count": 1189,
     "metadata": {},
     "output_type": "execute_result"
    }
   ],
   "source": [
    "h12_3=np.zeros(N)\n",
    "h12_3[0]=1\n",
    "for i in range(N):\n",
    "    exp=diff_3_h12.subs(lj,coeff_matrix[i,0,0])\n",
    "    exp2=exp.subs([(x,X[i]),(lj.diff(x,1),coeff_matrix[i,0,1]),(lj.diff(x,2),coeff_matrix[i,0,2]),(lj.diff(x,3),coeff_matrix[i,0,3]),(lj.diff(x,4),coeff_matrix[i,0,4]),(lj.diff(x,5),coeff_matrix[i,0,5]),(lj.diff(x,6),coeff_matrix[i,0,6])]).doit()\n",
    "    h12_3[i]=exp2\n",
    "\n",
    "h12_3"
   ]
  },
  {
   "cell_type": "code",
   "execution_count": 1190,
   "metadata": {},
   "outputs": [
    {
     "data": {
      "text/plain": [
       "array([12.,  0.,  0.,  0.,  0.,  0.,  0.,  0.,  0.,  0.,  0.,  0.,  0.,\n",
       "        0.,  0.,  0.,  0.,  0.,  0.,  0.,  0.,  0.,  0.,  0.,  0.,  0.,\n",
       "        0.,  0.,  0.,  0.,  0.,  0.,  0.,  0.,  0.,  0.,  0.,  0.,  0.,\n",
       "        0.])"
      ]
     },
     "execution_count": 1190,
     "metadata": {},
     "output_type": "execute_result"
    }
   ],
   "source": [
    "h12_4=np.zeros(N)\n",
    "h12_4[0]=1\n",
    "for i in range(N):\n",
    "    exp=diff_4_h12.subs(lj,coeff_matrix[i,0,0])\n",
    "    exp2=exp.subs([(x,X[i]),(lj.diff(x,1),coeff_matrix[i,0,1]),(lj.diff(x,2),coeff_matrix[i,0,2]),(lj.diff(x,3),coeff_matrix[i,0,3]),(lj.diff(x,4),coeff_matrix[i,0,4]),(lj.diff(x,5),coeff_matrix[i,0,5]),(lj.diff(x,6),coeff_matrix[i,0,6])]).doit()\n",
    "    h12_4[i]=exp2\n",
    "\n",
    "h12_4"
   ]
  },
  {
   "cell_type": "code",
   "execution_count": 1191,
   "metadata": {},
   "outputs": [
    {
     "data": {
      "text/plain": [
       "array([0., 0., 0., 0., 0., 0., 0., 0., 0., 0., 0., 0., 0., 0., 0., 0., 0.,\n",
       "       0., 0., 0., 0., 0., 0., 0., 0., 0., 0., 0., 0., 0., 0., 0., 0., 0.,\n",
       "       0., 0., 0., 0., 0., 0.])"
      ]
     },
     "execution_count": 1191,
     "metadata": {},
     "output_type": "execute_result"
    }
   ],
   "source": [
    "h12_5=np.zeros(N)\n",
    "h12_5[0]=1\n",
    "for i in range(N):\n",
    "    exp=diff_5_h12.subs(lj,coeff_matrix[i,0,0])\n",
    "    exp2=exp.subs([(x,X[i]),(lj.diff(x,1),coeff_matrix[i,0,1]),(lj.diff(x,2),coeff_matrix[i,0,2]),(lj.diff(x,3),coeff_matrix[i,0,3]),(lj.diff(x,4),coeff_matrix[i,0,4]),(lj.diff(x,5),coeff_matrix[i,0,5]),(lj.diff(x,6),coeff_matrix[i,0,6])]).doit()\n",
    "    h12_5[i]=exp2\n",
    "\n",
    "h12_5"
   ]
  },
  {
   "cell_type": "code",
   "execution_count": 1192,
   "metadata": {},
   "outputs": [
    {
     "data": {
      "text/plain": [
       "array([0., 0., 0., 0., 0., 0., 0., 0., 0., 0., 0., 0., 0., 0., 0., 0., 0.,\n",
       "       0., 0., 0., 0., 0., 0., 0., 0., 0., 0., 0., 0., 0., 0., 0., 0., 0.,\n",
       "       0., 0., 0., 0., 0., 0.])"
      ]
     },
     "execution_count": 1192,
     "metadata": {},
     "output_type": "execute_result"
    }
   ],
   "source": [
    "h12_6=np.zeros(N)\n",
    "h12_6[0]=1\n",
    "for i in range(N):\n",
    "    exp=diff_6_h12.subs(lj,coeff_matrix[i,0,0])\n",
    "    exp2=exp.subs([(x,X[i]),(lj.diff(x,1),coeff_matrix[i,0,1]),(lj.diff(x,2),coeff_matrix[i,0,2]),(lj.diff(x,3),coeff_matrix[i,0,3]),(lj.diff(x,4),coeff_matrix[i,0,4]),(lj.diff(x,5),coeff_matrix[i,0,5]),(lj.diff(x,6),coeff_matrix[i,0,6])]).doit()\n",
    "    h12_6[i]=exp2\n",
    "\n",
    "h12_6"
   ]
  },
  {
   "cell_type": "code",
   "execution_count": 1193,
   "metadata": {},
   "outputs": [
    {
     "data": {
      "text/plain": [
       "array([0., 0., 0., 0., 0., 0., 0., 0., 0., 0., 0., 0., 0., 0., 0., 0., 0.,\n",
       "       0., 0., 0., 0., 0., 0., 0., 0., 0., 0., 0., 0., 0., 0., 0., 0., 0.,\n",
       "       0., 0., 0., 0., 0., 1.])"
      ]
     },
     "execution_count": 1193,
     "metadata": {},
     "output_type": "execute_result"
    }
   ],
   "source": [
    "hN0_6=np.zeros(N)\n",
    "for i in range(N):\n",
    "    if(i==N-1):\n",
    "        hN0_6[i]=1\n",
    "        continue\n",
    "    exp=diff_6_hN0.subs(lj,coeff_matrix[i,N-1,0])\n",
    "    exp2=exp.subs([(x,X[i]),(lj.diff(x,1),coeff_matrix[i,N-1,1]),(lj.diff(x,2),coeff_matrix[i,N-1,2]),(lj.diff(x,3),coeff_matrix[i,N-1,3]),(lj.diff(x,4),coeff_matrix[i,N-1,4]),(lj.diff(x,5),coeff_matrix[i,N-1,5]),(lj.diff(x,6),coeff_matrix[i,N-1,6])]).doit()\n",
    "    hN0_6[i]=exp2\n",
    "\n",
    "hN0_6"
   ]
  },
  {
   "cell_type": "code",
   "execution_count": 1194,
   "metadata": {},
   "outputs": [
    {
     "data": {
      "text/plain": [
       "array([0., 0., 0., 0., 0., 0., 0., 0., 0., 0., 0., 0., 0., 0., 0., 0., 0.,\n",
       "       0., 0., 0., 0., 0., 0., 0., 0., 0., 0., 0., 0., 0., 0., 0., 0., 0.,\n",
       "       0., 0., 0., 0., 0., 1.])"
      ]
     },
     "execution_count": 1194,
     "metadata": {},
     "output_type": "execute_result"
    }
   ],
   "source": [
    "hN0_5=np.zeros(N)\n",
    "for i in range(N):\n",
    "    if(i==N-1):\n",
    "        hN0_5[i]=1\n",
    "        continue\n",
    "    exp=diff_5_hN0.subs(lj,coeff_matrix[i,N-1,0])\n",
    "    exp2=exp.subs([(x,X[i]),(lj.diff(x,1),coeff_matrix[i,N-1,1]),(lj.diff(x,2),coeff_matrix[i,N-1,2]),(lj.diff(x,3),coeff_matrix[i,N-1,3]),(lj.diff(x,4),coeff_matrix[i,N-1,4]),(lj.diff(x,5),coeff_matrix[i,N-1,5]),(lj.diff(x,6),coeff_matrix[i,N-1,6])]).doit()\n",
    "    hN0_5[i]=exp2\n",
    "\n",
    "hN0_5"
   ]
  },
  {
   "cell_type": "code",
   "execution_count": 1195,
   "metadata": {},
   "outputs": [
    {
     "data": {
      "text/plain": [
       "array([0., 0., 0., 0., 0., 0., 0., 0., 0., 0., 0., 0., 0., 0., 0., 0., 0.,\n",
       "       0., 0., 0., 0., 0., 0., 0., 0., 0., 0., 0., 0., 0., 0., 0., 0., 0.,\n",
       "       0., 0., 0., 0., 0., 1.])"
      ]
     },
     "execution_count": 1195,
     "metadata": {},
     "output_type": "execute_result"
    }
   ],
   "source": [
    "hN0_4=np.zeros(N)\n",
    "for i in range(N):\n",
    "    if(i==N-1):\n",
    "        hN0_4[i]=1\n",
    "        continue\n",
    "    exp=diff_4_hN0.subs(lj,coeff_matrix[i,N-1,0])\n",
    "    exp2=exp.subs([(x,X[i]),(lj.diff(x,1),coeff_matrix[i,N-1,1]),(lj.diff(x,2),coeff_matrix[i,N-1,2]),(lj.diff(x,3),coeff_matrix[i,N-1,3]),(lj.diff(x,4),coeff_matrix[i,N-1,4]),(lj.diff(x,5),coeff_matrix[i,N-1,5]),(lj.diff(x,6),coeff_matrix[i,N-1,6])]).doit()\n",
    "    hN0_4[i]=exp2\n",
    "\n",
    "hN0_4"
   ]
  },
  {
   "cell_type": "code",
   "execution_count": 1196,
   "metadata": {},
   "outputs": [
    {
     "data": {
      "text/plain": [
       "array([0., 0., 0., 0., 0., 0., 0., 0., 0., 0., 0., 0., 0., 0., 0., 0., 0.,\n",
       "       0., 0., 0., 0., 0., 0., 0., 0., 0., 0., 0., 0., 0., 0., 0., 0., 0.,\n",
       "       0., 0., 0., 0., 0., 1.])"
      ]
     },
     "execution_count": 1196,
     "metadata": {},
     "output_type": "execute_result"
    }
   ],
   "source": [
    "hN0_3=np.zeros(N)\n",
    "for i in range(N):\n",
    "    if(i==N-1):\n",
    "        hN0_3[i]=1\n",
    "        continue\n",
    "    exp=diff_3_hN0.subs(lj,coeff_matrix[i,N-1,0])\n",
    "    exp2=exp.subs([(x,X[i]),(lj.diff(x,1),coeff_matrix[i,N-1,1]),(lj.diff(x,2),coeff_matrix[i,N-1,2]),(lj.diff(x,3),coeff_matrix[i,N-1,3]),(lj.diff(x,4),coeff_matrix[i,N-1,4]),(lj.diff(x,5),coeff_matrix[i,N-1,5]),(lj.diff(x,6),coeff_matrix[i,N-1,6])]).doit()\n",
    "    hN0_3[i]=exp2\n",
    "\n",
    "hN0_3"
   ]
  },
  {
   "cell_type": "code",
   "execution_count": 1197,
   "metadata": {},
   "outputs": [
    {
     "data": {
      "text/plain": [
       "array([0., 0., 0., 0., 0., 0., 0., 0., 0., 0., 0., 0., 0., 0., 0., 0., 0.,\n",
       "       0., 0., 0., 0., 0., 0., 0., 0., 0., 0., 0., 0., 0., 0., 0., 0., 0.,\n",
       "       0., 0., 0., 0., 0., 1.])"
      ]
     },
     "execution_count": 1197,
     "metadata": {},
     "output_type": "execute_result"
    }
   ],
   "source": [
    "hN0_2=np.zeros(N)\n",
    "for i in range(N):\n",
    "    if(i==N-1):\n",
    "        hN0_2[i]=1\n",
    "        continue\n",
    "    exp=diff_2_hN0.subs(lj,coeff_matrix[i,N-1,0])\n",
    "    exp2=exp.subs([(x,X[i]),(lj.diff(x,1),coeff_matrix[i,N-1,1]),(lj.diff(x,2),coeff_matrix[i,N-1,2]),(lj.diff(x,3),coeff_matrix[i,N-1,3]),(lj.diff(x,4),coeff_matrix[i,N-1,4]),(lj.diff(x,5),coeff_matrix[i,N-1,5]),(lj.diff(x,6),coeff_matrix[i,N-1,6])]).doit()\n",
    "    hN0_2[i]=exp2\n",
    "\n",
    "hN0_2"
   ]
  },
  {
   "cell_type": "code",
   "execution_count": 1198,
   "metadata": {},
   "outputs": [
    {
     "data": {
      "text/plain": [
       "array([0., 0., 0., 0., 0., 0., 0., 0., 0., 0., 0., 0., 0., 0., 0., 0., 0.,\n",
       "       0., 0., 0., 0., 0., 0., 0., 0., 0., 0., 0., 0., 0., 0., 0., 0., 0.,\n",
       "       0., 0., 0., 0., 0., 1.])"
      ]
     },
     "execution_count": 1198,
     "metadata": {},
     "output_type": "execute_result"
    }
   ],
   "source": [
    "hN0_1=np.zeros(N)\n",
    "for i in range(N):\n",
    "    if(i==N-1):\n",
    "        hN0_1[i]=1\n",
    "        continue\n",
    "    exp=diff_1_hN0.subs(lj,coeff_matrix[i,N-1,0])\n",
    "    exp2=exp.subs([(x,X[i]),(lj.diff(x,1),coeff_matrix[i,N-1,1]),(lj.diff(x,2),coeff_matrix[i,N-1,2]),(lj.diff(x,3),coeff_matrix[i,N-1,3]),(lj.diff(x,4),coeff_matrix[i,N-1,4]),(lj.diff(x,5),coeff_matrix[i,N-1,5]),(lj.diff(x,6),coeff_matrix[i,N-1,6])]).doit()\n",
    "    hN0_1[i]=exp2\n",
    "\n",
    "hN0_1"
   ]
  },
  {
   "cell_type": "code",
   "execution_count": 1199,
   "metadata": {},
   "outputs": [
    {
     "data": {
      "text/plain": [
       "array([0., 0., 0., 0., 0., 0., 0., 0., 0., 0., 0., 0., 0., 0., 0., 0., 0.,\n",
       "       0., 0., 0., 0., 0., 0., 0., 0., 0., 0., 0., 0., 0., 0., 0., 0., 0.,\n",
       "       0., 0., 0., 0., 0., 1.])"
      ]
     },
     "execution_count": 1199,
     "metadata": {},
     "output_type": "execute_result"
    }
   ],
   "source": [
    "hN1_6=np.zeros(N)\n",
    "for i in range(N):\n",
    "    if(i==N-1):\n",
    "        hN1_6[i]=1\n",
    "        continue\n",
    "    exp=diff_6_hN1.subs(lj,coeff_matrix[i,N-1,0])\n",
    "    exp2=exp.subs([(x,X[i]),(lj.diff(x,1),coeff_matrix[i,N-1,1]),(lj.diff(x,2),coeff_matrix[i,N-1,2]),(lj.diff(x,3),coeff_matrix[i,N-1,3]),(lj.diff(x,4),coeff_matrix[i,N-1,4]),(lj.diff(x,5),coeff_matrix[i,N-1,5]),(lj.diff(x,6),coeff_matrix[i,N-1,6])]).doit()\n",
    "    hN1_6[i]=exp2\n",
    "\n",
    "hN1_6"
   ]
  },
  {
   "cell_type": "code",
   "execution_count": 1200,
   "metadata": {},
   "outputs": [
    {
     "data": {
      "text/plain": [
       "array([0., 0., 0., 0., 0., 0., 0., 0., 0., 0., 0., 0., 0., 0., 0., 0., 0.,\n",
       "       0., 0., 0., 0., 0., 0., 0., 0., 0., 0., 0., 0., 0., 0., 0., 0., 0.,\n",
       "       0., 0., 0., 0., 0., 1.])"
      ]
     },
     "execution_count": 1200,
     "metadata": {},
     "output_type": "execute_result"
    }
   ],
   "source": [
    "hN1_5=np.zeros(N)\n",
    "for i in range(N):\n",
    "    if(i==N-1):\n",
    "        hN1_5[i]=1\n",
    "        continue\n",
    "    exp=diff_5_hN1.subs(lj,coeff_matrix[i,N-1,0])\n",
    "    exp2=exp.subs([(x,X[i]),(lj.diff(x,1),coeff_matrix[i,N-1,1]),(lj.diff(x,2),coeff_matrix[i,N-1,2]),(lj.diff(x,3),coeff_matrix[i,N-1,3]),(lj.diff(x,4),coeff_matrix[i,N-1,4]),(lj.diff(x,5),coeff_matrix[i,N-1,5]),(lj.diff(x,6),coeff_matrix[i,N-1,6])]).doit()\n",
    "    hN1_5[i]=exp2\n",
    "\n",
    "hN1_5"
   ]
  },
  {
   "cell_type": "code",
   "execution_count": 1201,
   "metadata": {},
   "outputs": [
    {
     "data": {
      "text/plain": [
       "array([0., 0., 0., 0., 0., 0., 0., 0., 0., 0., 0., 0., 0., 0., 0., 0., 0.,\n",
       "       0., 0., 0., 0., 0., 0., 0., 0., 0., 0., 0., 0., 0., 0., 0., 0., 0.,\n",
       "       0., 0., 0., 0., 0., 1.])"
      ]
     },
     "execution_count": 1201,
     "metadata": {},
     "output_type": "execute_result"
    }
   ],
   "source": [
    "hN1_4=np.zeros(N)\n",
    "for i in range(N):\n",
    "    if(i==N-1):\n",
    "        hN1_4[i]=1\n",
    "        continue\n",
    "    exp=diff_4_hN1.subs(lj,coeff_matrix[i,N-1,0])\n",
    "    exp2=exp.subs([(x,X[i]),(lj.diff(x,1),coeff_matrix[i,N-1,1]),(lj.diff(x,2),coeff_matrix[i,N-1,2]),(lj.diff(x,3),coeff_matrix[i,N-1,3]),(lj.diff(x,4),coeff_matrix[i,N-1,4]),(lj.diff(x,5),coeff_matrix[i,N-1,5]),(lj.diff(x,6),coeff_matrix[i,N-1,6])]).doit()\n",
    "    hN1_4[i]=exp2\n",
    "\n",
    "hN1_4"
   ]
  },
  {
   "cell_type": "code",
   "execution_count": 1202,
   "metadata": {},
   "outputs": [
    {
     "data": {
      "text/plain": [
       "array([0., 0., 0., 0., 0., 0., 0., 0., 0., 0., 0., 0., 0., 0., 0., 0., 0.,\n",
       "       0., 0., 0., 0., 0., 0., 0., 0., 0., 0., 0., 0., 0., 0., 0., 0., 0.,\n",
       "       0., 0., 0., 0., 0., 1.])"
      ]
     },
     "execution_count": 1202,
     "metadata": {},
     "output_type": "execute_result"
    }
   ],
   "source": [
    "hN1_3=np.zeros(N)\n",
    "for i in range(N):\n",
    "    if(i==N-1):\n",
    "        hN1_3[i]=1\n",
    "        continue\n",
    "    exp=diff_3_hN1.subs(lj,coeff_matrix[i,N-1,0])\n",
    "    exp2=exp.subs([(x,X[i]),(lj.diff(x,1),coeff_matrix[i,N-1,1]),(lj.diff(x,2),coeff_matrix[i,N-1,2]),(lj.diff(x,3),coeff_matrix[i,N-1,3]),(lj.diff(x,4),coeff_matrix[i,N-1,4]),(lj.diff(x,5),coeff_matrix[i,N-1,5]),(lj.diff(x,6),coeff_matrix[i,N-1,6])]).doit()\n",
    "    hN1_3[i]=exp2\n",
    "\n",
    "hN1_3"
   ]
  },
  {
   "cell_type": "code",
   "execution_count": 1203,
   "metadata": {},
   "outputs": [
    {
     "data": {
      "text/plain": [
       "array([0., 0., 0., 0., 0., 0., 0., 0., 0., 0., 0., 0., 0., 0., 0., 0., 0.,\n",
       "       0., 0., 0., 0., 0., 0., 0., 0., 0., 0., 0., 0., 0., 0., 0., 0., 0.,\n",
       "       0., 0., 0., 0., 0., 1.])"
      ]
     },
     "execution_count": 1203,
     "metadata": {},
     "output_type": "execute_result"
    }
   ],
   "source": [
    "hN1_2=np.zeros(N)\n",
    "for i in range(N):\n",
    "    if(i==N-1):\n",
    "        hN1_2[i]=1\n",
    "        continue\n",
    "    exp=diff_2_hN1.subs(lj,coeff_matrix[i,N-1,0])\n",
    "    exp2=exp.subs([(x,X[i]),(lj.diff(x,1),coeff_matrix[i,N-1,1]),(lj.diff(x,2),coeff_matrix[i,N-1,2]),(lj.diff(x,3),coeff_matrix[i,N-1,3]),(lj.diff(x,4),coeff_matrix[i,N-1,4]),(lj.diff(x,5),coeff_matrix[i,N-1,5]),(lj.diff(x,6),coeff_matrix[i,N-1,6])]).doit()\n",
    "    hN1_2[i]=exp2\n",
    "\n",
    "hN1_2"
   ]
  },
  {
   "cell_type": "code",
   "execution_count": 1204,
   "metadata": {},
   "outputs": [
    {
     "data": {
      "text/plain": [
       "array([1., 1., 1., 1., 1., 1., 1., 1., 1., 1., 1., 1., 1., 1., 1., 1., 1.,\n",
       "       1., 1., 1., 1., 1., 1., 1., 1., 1., 1., 1., 1., 1., 1., 1., 1., 1.,\n",
       "       1., 1., 1., 1., 1., 1.])"
      ]
     },
     "execution_count": 1204,
     "metadata": {},
     "output_type": "execute_result"
    }
   ],
   "source": [
    "hN1_1=np.ones(N)\n",
    "# for i in range(N):\n",
    "#     exp=diff_1_hN1.subs(lj,coeff_matrix[i,N-1,0])\n",
    "#     exp2=exp.subs([(x,X[i]),(lj.diff(x,1),coeff_matrix[i,N-1,1]),(lj.diff(x,2),coeff_matrix[i,N-1,2]),(lj.diff(x,3),coeff_matrix[i,N-1,3]),(lj.diff(x,4),coeff_matrix[i,N-1,4]),(lj.diff(x,5),coeff_matrix[i,N-1,5]),(lj.diff(x,6),coeff_matrix[i,N-1,6])]).doit()\n",
    "#     hN1_1[i]=exp2\n",
    "\n",
    "hN1_1"
   ]
  },
  {
   "cell_type": "code",
   "execution_count": 1205,
   "metadata": {},
   "outputs": [
    {
     "data": {
      "text/plain": [
       "array([0., 0., 0., 0., 0., 0., 0., 0., 0., 0., 0., 0., 0., 0., 0., 0., 0.,\n",
       "       0., 0., 0., 0., 0., 0., 0., 0., 0., 0., 0., 0., 0., 0., 0., 0., 0.,\n",
       "       0., 0., 0., 0., 0., 1.])"
      ]
     },
     "execution_count": 1205,
     "metadata": {},
     "output_type": "execute_result"
    }
   ],
   "source": [
    "hN2_6=np.zeros(N)\n",
    "for i in range(N):\n",
    "    if(i==N-1):\n",
    "        hN2_6[i]=1\n",
    "        continue\n",
    "    exp=diff_6_hN2.subs(lj,coeff_matrix[i,N-1,0])\n",
    "    exp2=exp.subs([(x,X[i]),(lj.diff(x,1),coeff_matrix[i,N-1,1]),(lj.diff(x,2),coeff_matrix[i,N-1,2]),(lj.diff(x,3),coeff_matrix[i,N-1,3]),(lj.diff(x,4),coeff_matrix[i,N-1,4]),(lj.diff(x,5),coeff_matrix[i,N-1,5]),(lj.diff(x,6),coeff_matrix[i,N-1,6])]).doit()\n",
    "    hN2_6[i]=exp2\n",
    "\n",
    "hN2_6"
   ]
  },
  {
   "cell_type": "code",
   "execution_count": 1206,
   "metadata": {},
   "outputs": [
    {
     "data": {
      "text/plain": [
       "array([0., 0., 0., 0., 0., 0., 0., 0., 0., 0., 0., 0., 0., 0., 0., 0., 0.,\n",
       "       0., 0., 0., 0., 0., 0., 0., 0., 0., 0., 0., 0., 0., 0., 0., 0., 0.,\n",
       "       0., 0., 0., 0., 0., 1.])"
      ]
     },
     "execution_count": 1206,
     "metadata": {},
     "output_type": "execute_result"
    }
   ],
   "source": [
    "hN2_5=np.zeros(N)\n",
    "for i in range(N):\n",
    "    if(i==N-1):\n",
    "        hN2_5[i]=1\n",
    "        continue\n",
    "    exp=diff_5_hN2.subs(lj,coeff_matrix[i,N-1,0])\n",
    "    exp2=exp.subs([(x,X[i]),(lj.diff(x,1),coeff_matrix[i,N-1,1]),(lj.diff(x,2),coeff_matrix[i,N-1,2]),(lj.diff(x,3),coeff_matrix[i,N-1,3]),(lj.diff(x,4),coeff_matrix[i,N-1,4]),(lj.diff(x,5),coeff_matrix[i,N-1,5]),(lj.diff(x,6),coeff_matrix[i,N-1,6])]).doit()\n",
    "    hN2_5[i]=exp2\n",
    "\n",
    "hN2_5"
   ]
  },
  {
   "cell_type": "code",
   "execution_count": 1207,
   "metadata": {},
   "outputs": [
    {
     "data": {
      "text/plain": [
       "array([0., 0., 0., 0., 0., 0., 0., 0., 0., 0., 0., 0., 0., 0., 0., 0., 0.,\n",
       "       0., 0., 0., 0., 0., 0., 0., 0., 0., 0., 0., 0., 0., 0., 0., 0., 0.,\n",
       "       0., 0., 0., 0., 0., 1.])"
      ]
     },
     "execution_count": 1207,
     "metadata": {},
     "output_type": "execute_result"
    }
   ],
   "source": [
    "hN2_4=np.zeros(N)\n",
    "for i in range(N):\n",
    "    if(i==N-1):\n",
    "        hN2_4[i]=1\n",
    "        continue\n",
    "    exp=diff_4_hN2.subs(lj,coeff_matrix[i,N-1,0])\n",
    "    exp2=exp.subs([(x,X[i]),(lj.diff(x,1),coeff_matrix[i,N-1,1]),(lj.diff(x,2),coeff_matrix[i,N-1,2]),(lj.diff(x,3),coeff_matrix[i,N-1,3]),(lj.diff(x,4),coeff_matrix[i,N-1,4]),(lj.diff(x,5),coeff_matrix[i,N-1,5]),(lj.diff(x,6),coeff_matrix[i,N-1,6])]).doit()\n",
    "    hN2_4[i]=exp2\n",
    "\n",
    "hN2_4"
   ]
  },
  {
   "cell_type": "code",
   "execution_count": 1208,
   "metadata": {},
   "outputs": [
    {
     "data": {
      "text/plain": [
       "array([0., 0., 0., 0., 0., 0., 0., 0., 0., 0., 0., 0., 0., 0., 0., 0., 0.,\n",
       "       0., 0., 0., 0., 0., 0., 0., 0., 0., 0., 0., 0., 0., 0., 0., 0., 0.,\n",
       "       0., 0., 0., 0., 0., 1.])"
      ]
     },
     "execution_count": 1208,
     "metadata": {},
     "output_type": "execute_result"
    }
   ],
   "source": [
    "hN2_3=np.zeros(N)\n",
    "for i in range(N):\n",
    "    if(i==N-1):\n",
    "        hN2_3[i]=1\n",
    "        continue\n",
    "    exp=diff_3_hN2.subs(lj,coeff_matrix[i,N-1,0])\n",
    "    exp2=exp.subs([(x,X[i]),(lj.diff(x,1),coeff_matrix[i,N-1,1]),(lj.diff(x,2),coeff_matrix[i,N-1,2]),(lj.diff(x,3),coeff_matrix[i,N-1,3]),(lj.diff(x,4),coeff_matrix[i,N-1,4]),(lj.diff(x,5),coeff_matrix[i,N-1,5]),(lj.diff(x,6),coeff_matrix[i,N-1,6])]).doit()\n",
    "    hN2_3[i]=exp2\n",
    "\n",
    "hN2_3"
   ]
  },
  {
   "cell_type": "code",
   "execution_count": 1209,
   "metadata": {},
   "outputs": [
    {
     "data": {
      "text/plain": [
       "array([1., 1., 1., 1., 1., 1., 1., 1., 1., 1., 1., 1., 1., 1., 1., 1., 1.,\n",
       "       1., 1., 1., 1., 1., 1., 1., 1., 1., 1., 1., 1., 1., 1., 1., 1., 1.,\n",
       "       1., 1., 1., 1., 1., 1.])"
      ]
     },
     "execution_count": 1209,
     "metadata": {},
     "output_type": "execute_result"
    }
   ],
   "source": [
    "hN2_2=np.ones(N)\n",
    "# for i in range(N):\n",
    "#     exp=diff_2_hN2.subs(lj,coeff_matrix[i,N-1,0])\n",
    "#     exp2=exp.subs([(x,X[i]),(lj.diff(x,1),coeff_matrix[i,N-1,1]),(lj.diff(x,2),coeff_matrix[i,N-1,2]),(lj.diff(x,3),coeff_matrix[i,N-1,3]),(lj.diff(x,4),coeff_matrix[i,N-1,4]),(lj.diff(x,5),coeff_matrix[i,N-1,5]),(lj.diff(x,6),coeff_matrix[i,N-1,6])]).doit()\n",
    "#     hN2_2[i]=exp2\n",
    "\n",
    "hN2_2"
   ]
  },
  {
   "cell_type": "code",
   "execution_count": 1210,
   "metadata": {},
   "outputs": [
    {
     "data": {
      "text/plain": [
       "array([0., 0., 0., 0., 0., 0., 0., 0., 0., 0., 0., 0., 0., 0., 0., 0., 0.,\n",
       "       0., 0., 0., 0., 0., 0., 0., 0., 0., 0., 0., 0., 0., 0., 0., 0., 0.,\n",
       "       0., 0., 0., 0., 0., 1.])"
      ]
     },
     "execution_count": 1210,
     "metadata": {},
     "output_type": "execute_result"
    }
   ],
   "source": [
    "hN2_1=np.zeros(N)\n",
    "for i in range(N):\n",
    "    if(i==N-1):\n",
    "        hN2_1[i]=1\n",
    "        continue\n",
    "    exp=diff_1_hN2.subs(lj,coeff_matrix[i,N-1,0])\n",
    "    exp2=exp.subs([(x,X[i]),(lj.diff(x,1),coeff_matrix[i,N-1,1]),(lj.diff(x,2),coeff_matrix[i,N-1,2]),(lj.diff(x,3),coeff_matrix[i,N-1,3]),(lj.diff(x,4),coeff_matrix[i,N-1,4]),(lj.diff(x,5),coeff_matrix[i,N-1,5]),(lj.diff(x,6),coeff_matrix[i,N-1,6])]).doit()\n",
    "    hN2_1[i]=exp2\n",
    "\n",
    "hN2_1"
   ]
  },
  {
   "cell_type": "code",
   "execution_count": 1211,
   "metadata": {},
   "outputs": [
    {
     "data": {
      "text/plain": [
       "(38, 40)"
      ]
     },
     "execution_count": 1211,
     "metadata": {},
     "output_type": "execute_result"
    }
   ],
   "source": [
    "#FOR OTHER THAN BOUNDARY CONDITION\n",
    "\n",
    "hj0_1=np.zeros((N-2,N))\n",
    "for j in range(1,N-1):\n",
    "    for i in range(N):\n",
    "        if(i==j):\n",
    "            hj0_1[i-1][i]=1\n",
    "            continue\n",
    "        exp=diff_1_hj0.subs(lj,coeff_matrix[i,j,0])\n",
    "        exp2=exp.subs([(x,X[i]),(lj.diff(x,1),coeff_matrix[i,j,1]),(lj.diff(x,2),coeff_matrix[i,j,2]),(lj.diff(x,3),coeff_matrix[i,j,3]),(lj.diff(x,4),coeff_matrix[i,j,4]),(lj.diff(x,5),coeff_matrix[i,j,5]),(lj.diff(x,6),coeff_matrix[i,j,6])]).doit()\n",
    "        hj0_1[j-1][i]=exp2/((X[j]**2)*(X[j]-1)**2)\n",
    "hj0_1.shape"
   ]
  },
  {
   "cell_type": "code",
   "execution_count": 1212,
   "metadata": {},
   "outputs": [
    {
     "data": {
      "text/plain": [
       "(38, 40)"
      ]
     },
     "execution_count": 1212,
     "metadata": {},
     "output_type": "execute_result"
    }
   ],
   "source": [
    "hj0_2=np.zeros((N-2,N))\n",
    "for j in range(1,N-1):\n",
    "    for i in range(N):\n",
    "        if(i==j):\n",
    "            hj0_2[i-1][i]=1\n",
    "            continue\n",
    "        exp=diff_2_hj0.subs(lj,coeff_matrix[i,j,0])\n",
    "        exp2=exp.subs([(x,X[i]),(lj.diff(x,1),coeff_matrix[i,j,1]),(lj.diff(x,2),coeff_matrix[i,j,2]),(lj.diff(x,3),coeff_matrix[i,j,3]),(lj.diff(x,4),coeff_matrix[i,j,4]),(lj.diff(x,5),coeff_matrix[i,j,5]),(lj.diff(x,6),coeff_matrix[i,j,6])]).doit()\n",
    "        hj0_2[j-1][i]=exp2/((X[j]**2)*(X[j]-1)**2)\n",
    "hj0_2.shape"
   ]
  },
  {
   "cell_type": "code",
   "execution_count": 1213,
   "metadata": {},
   "outputs": [
    {
     "data": {
      "text/plain": [
       "(38, 40)"
      ]
     },
     "execution_count": 1213,
     "metadata": {},
     "output_type": "execute_result"
    }
   ],
   "source": [
    "hj0_3=np.zeros((N-2,N))\n",
    "for j in range(1,N-1):\n",
    "    for i in range(N):\n",
    "        if(i==j):\n",
    "            hj0_3[i-1][i]=1\n",
    "            continue\n",
    "        exp=diff_3_hj0.subs(lj,coeff_matrix[i,j,0])\n",
    "        exp2=exp.subs([(x,X[i]),(lj.diff(x,1),coeff_matrix[i,j,1]),(lj.diff(x,2),coeff_matrix[i,j,2]),(lj.diff(x,3),coeff_matrix[i,j,3]),(lj.diff(x,4),coeff_matrix[i,j,4]),(lj.diff(x,5),coeff_matrix[i,j,5]),(lj.diff(x,6),coeff_matrix[i,j,6])]).doit()\n",
    "        hj0_3[j-1][i]=exp2/((X[j]**2)*(X[j]-1)**2)\n",
    "hj0_3.shape"
   ]
  },
  {
   "cell_type": "code",
   "execution_count": 1214,
   "metadata": {},
   "outputs": [
    {
     "data": {
      "text/plain": [
       "(38, 40)"
      ]
     },
     "execution_count": 1214,
     "metadata": {},
     "output_type": "execute_result"
    }
   ],
   "source": [
    "hj0_4=np.zeros((N-2,N))\n",
    "for j in range(1,N-1):\n",
    "    for i in range(N):\n",
    "        if(i==j):\n",
    "            hj0_4[i-1][i]=1\n",
    "            continue\n",
    "        exp=diff_4_hj0.subs(lj,coeff_matrix[i,j,0])\n",
    "        exp2=exp.subs([(x,X[i]),(lj.diff(x,1),coeff_matrix[i,j,1]),(lj.diff(x,2),coeff_matrix[i,j,2]),(lj.diff(x,3),coeff_matrix[i,j,3]),(lj.diff(x,4),coeff_matrix[i,j,4]),(lj.diff(x,5),coeff_matrix[i,j,5]),(lj.diff(x,6),coeff_matrix[i,j,6])]).doit()\n",
    "        hj0_4[j-1][i]=exp2/((X[j]**2)*(X[j]-1)**2)\n",
    "hj0_4.shape"
   ]
  },
  {
   "cell_type": "code",
   "execution_count": 1215,
   "metadata": {},
   "outputs": [
    {
     "data": {
      "text/plain": [
       "(38, 40)"
      ]
     },
     "execution_count": 1215,
     "metadata": {},
     "output_type": "execute_result"
    }
   ],
   "source": [
    "hj0_5=np.zeros((N-2,N))\n",
    "for j in range(1,N-1):\n",
    "    for i in range(N):\n",
    "        if(i==j):\n",
    "            hj0_5[i-1][i]=1\n",
    "            continue\n",
    "        exp=diff_5_hj0.subs(lj,coeff_matrix[i,j,0])\n",
    "        exp2=exp.subs([(x,X[i]),(lj.diff(x,1),coeff_matrix[i,j,1]),(lj.diff(x,2),coeff_matrix[i,j,2]),(lj.diff(x,3),coeff_matrix[i,j,3]),(lj.diff(x,4),coeff_matrix[i,j,4]),(lj.diff(x,5),coeff_matrix[i,j,5]),(lj.diff(x,6),coeff_matrix[i,j,6])]).doit()\n",
    "        hj0_5[j-1][i]=exp2/((X[j]**2)*(X[j]-1)**2)\n",
    "hj0_5.shape"
   ]
  },
  {
   "cell_type": "code",
   "execution_count": 1216,
   "metadata": {},
   "outputs": [
    {
     "data": {
      "text/plain": [
       "(38, 40)"
      ]
     },
     "execution_count": 1216,
     "metadata": {},
     "output_type": "execute_result"
    }
   ],
   "source": [
    "hj0_6=np.zeros((N-2,N))\n",
    "for j in range(1,N-1):\n",
    "    for i in range(N):\n",
    "        if(i==j):\n",
    "            hj0_6[i-1][i]=1\n",
    "            continue\n",
    "        exp=diff_6_hj0.subs(lj,coeff_matrix[i,j,0])\n",
    "        exp2=exp.subs([(x,X[i]),(lj.diff(x,1),coeff_matrix[i,j,1]),(lj.diff(x,2),coeff_matrix[i,j,2]),(lj.diff(x,3),coeff_matrix[i,j,3]),(lj.diff(x,4),coeff_matrix[i,j,4]),(lj.diff(x,5),coeff_matrix[i,j,5]),(lj.diff(x,6),coeff_matrix[i,j,6])]).doit()\n",
    "        hj0_6[j-1][i]=exp2/((X[j]**2)*(X[j]-1)**2)\n",
    "hj0_6.shape"
   ]
  },
  {
   "cell_type": "code",
   "execution_count": 1217,
   "metadata": {},
   "outputs": [
    {
     "data": {
      "text/plain": [
       "(44, 40)"
      ]
     },
     "execution_count": 1217,
     "metadata": {},
     "output_type": "execute_result"
    }
   ],
   "source": [
    "E_6=hj0_6\n",
    "E_6=np.vstack((h10_6,h11_6,h12_6,hN0_6,hN1_6,hN2_6,E_6))\n",
    "E_6.shape"
   ]
  },
  {
   "cell_type": "code",
   "execution_count": 1218,
   "metadata": {},
   "outputs": [
    {
     "data": {
      "text/plain": [
       "(44, 40)"
      ]
     },
     "execution_count": 1218,
     "metadata": {},
     "output_type": "execute_result"
    }
   ],
   "source": [
    "E_5=hj0_5\n",
    "E_5=np.vstack((h10_5,h11_5,h12_5,hN0_5,hN1_5,hN2_5,E_5))\n",
    "E_5.shape"
   ]
  },
  {
   "cell_type": "code",
   "execution_count": 1219,
   "metadata": {},
   "outputs": [
    {
     "data": {
      "text/plain": [
       "(44, 40)"
      ]
     },
     "execution_count": 1219,
     "metadata": {},
     "output_type": "execute_result"
    }
   ],
   "source": [
    "E_4=hj0_4\n",
    "E_4=np.vstack((h10_4,h11_4,h12_4,hN0_4,hN1_4,hN2_4,E_4))\n",
    "E_4.shape"
   ]
  },
  {
   "cell_type": "code",
   "execution_count": 1220,
   "metadata": {},
   "outputs": [
    {
     "data": {
      "text/plain": [
       "(44, 40)"
      ]
     },
     "execution_count": 1220,
     "metadata": {},
     "output_type": "execute_result"
    }
   ],
   "source": [
    "E_3=hj0_3\n",
    "E_3=np.vstack((h10_3,h11_3,h12_3,hN0_3,hN1_3,hN2_3,E_3))\n",
    "E_3.shape"
   ]
  },
  {
   "cell_type": "code",
   "execution_count": 1221,
   "metadata": {},
   "outputs": [
    {
     "data": {
      "text/plain": [
       "(44, 40)"
      ]
     },
     "execution_count": 1221,
     "metadata": {},
     "output_type": "execute_result"
    }
   ],
   "source": [
    "E_2=hj0_2\n",
    "E_2=np.vstack((h10_2,h11_2,h12_2,hN0_2,hN1_2,hN2_2,E_2))\n",
    "E_2.shape"
   ]
  },
  {
   "cell_type": "code",
   "execution_count": 1222,
   "metadata": {},
   "outputs": [
    {
     "data": {
      "text/plain": [
       "(44, 40)"
      ]
     },
     "execution_count": 1222,
     "metadata": {},
     "output_type": "execute_result"
    }
   ],
   "source": [
    "E_1=hj0_1\n",
    "E_1=np.vstack((h10_1,h11_1,h12_1,hN0_1,hN1_1,hN2_1,E_1))\n",
    "E_1.shape\n"
   ]
  },
  {
   "cell_type": "code",
   "execution_count": 1223,
   "metadata": {},
   "outputs": [
    {
     "data": {
      "text/plain": [
       "(40, 44)"
      ]
     },
     "execution_count": 1223,
     "metadata": {},
     "output_type": "execute_result"
    }
   ],
   "source": [
    "E_6=E_6.T\n",
    "E_5=E_5.T\n",
    "E_4=E_4.T\n",
    "E_3=E_3.T\n",
    "E_2=E_2.T\n",
    "E_1=E_1.T\n",
    "\n",
    "E_6.shape"
   ]
  },
  {
   "cell_type": "code",
   "execution_count": 1224,
   "metadata": {},
   "outputs": [],
   "source": [
    "#differential equation transformation\n",
    "\n",
    "E_6_diff=np.zeros((N,N+4))\n",
    "E_5_diff=np.zeros((N,N+4))\n",
    "E_4_diff_alpha1=np.zeros((N,N+4))\n",
    "E_3_diff=np.zeros((N,N+4))\n",
    "E_2_diff_alpha1=np.zeros((N,N+4))\n",
    "\n",
    "for i in range(N):\n",
    "        E_6_diff[i,:]=(aplha1**2)*eita_term[i]*E_6[i,:]\n",
    "        E_5_diff[i,:]=3*(aplha1**2)*eita*eita_term[i]*E_5[i,:]\n",
    "        E_4_diff_alpha1[i,:]=(3*(aplha1**2)*(eita**2)-1)*eita_term[i]*E_4[i,:]\n",
    "        E_3_diff[i,:]=((aplha1**2)*(eita**3)-2*eita)*eita_term[i]*E_3[i,:]\n",
    "        E_2_diff_alpha1[i,:]=(eita**2)*eita_term[i]*E_2[i,:]"
   ]
  },
  {
   "cell_type": "code",
   "execution_count": 1225,
   "metadata": {},
   "outputs": [
    {
     "data": {
      "text/plain": [
       "array([[ 1.00000000e+00,  0.00000000e+00, -1.23041324e-21,\n",
       "         0.00000000e+00,  0.00000000e+00,  0.00000000e+00],\n",
       "       [ 6.97034890e-01, -0.00000000e+00, -4.06575949e-08,\n",
       "        -4.87891138e-07,  4.87891138e-07, -0.00000000e+00],\n",
       "       [ 0.00000000e+00,  0.00000000e+00,  0.00000000e+00,\n",
       "        -1.00000000e+00,  1.00000000e+00,  0.00000000e+00],\n",
       "       [ 0.00000000e+00,  0.00000000e+00,  0.00000000e+00,\n",
       "         1.11022302e-16,  0.00000000e+00,  1.00000000e+00],\n",
       "       [-4.05012147e+03, -1.00000000e+00,  8.33334960e-02,\n",
       "         1.00000195e+00, -1.95156455e-06, -1.00000000e+00],\n",
       "       [ 4.05012147e+03,  1.00000000e+00, -8.33334960e-02,\n",
       "        -1.95156455e-06,  1.95156455e-06,  0.00000000e+00]])"
      ]
     },
     "execution_count": 1225,
     "metadata": {},
     "output_type": "execute_result"
    }
   ],
   "source": [
    "\n",
    "\n",
    "h10=np.zeros(N)\n",
    "\n",
    "for i in range(N):\n",
    "    if(i==0):\n",
    "        h10[i]=1\n",
    "        continue\n",
    "    h10[i]=((X[i]-1)**2)*(a10*(X[i]**2)+b10*X[i]+c10)*coeff_matrix[i,0,0]\n",
    "\n",
    "h11=np.zeros(N)\n",
    "for i in range(N):\n",
    "    if(i==0):\n",
    "        h11[i]=1\n",
    "        continue\n",
    "    h11[i]=((X[i]-1)**2)*(a11*(X[i]**2)+b11*X[i]+c11)*coeff_matrix[i,0,0]\n",
    "\n",
    "h12=np.zeros(N)\n",
    "for i in range(N):\n",
    "    if(i==0):\n",
    "        h12[i]=1\n",
    "        continue\n",
    "    h12[i]=((X[i]-1)**2)*(a12*(X[i]**2)+b12*X[i]+c12)*coeff_matrix[i,0,0]\n",
    "\n",
    "hN0=np.zeros(N)\n",
    "for i in range(N):\n",
    "    if(i==N-1):\n",
    "        hN0[i]=1\n",
    "        continue\n",
    "    hN0[i]=((X[i]-1)**2)*(aN0*(X[i]**2)+bN0*X[i]+cN0)*coeff_matrix[i,N-1,0]\n",
    "hN1=np.zeros(N)\n",
    "for i in range(N):\n",
    "    if(i==N-1):\n",
    "        hN1[i]=1\n",
    "        continue\n",
    "    hN1[i]=((X[i]-1)**2)*(aN1*(X[i]**2)+bN1*X[i]+cN1)*coeff_matrix[i,N-1,0]\n",
    "hN2=np.zeros(N)\n",
    "for i in range(N):\n",
    "    if(i==0):\n",
    "        hN2[i]=1\n",
    "        continue\n",
    "    hN2[i]=((X[i]-1)**2)*(aN2*(X[i]**2)+bN2*X[i]+cN2)*coeff_matrix[i,N-1,0]\n",
    "\n",
    "\n",
    "boundary_1=np.zeros(N+4)\n",
    "boundary_1[0]=1\n",
    "\n",
    "boundary_2=E_2[0,:]\n",
    "boundary_3=E_4[0,:]\n",
    "boundary_4=E_4[N-1,:]\n",
    "boundary_5=E_2[N-1,:]\n",
    "boundary_6=np.zeros(N+4)\n",
    "boundary_6[3]=1\n",
    "boundary_matrix=np.vstack((boundary_1,boundary_2,boundary_3,boundary_4,boundary_5,boundary_6))\n",
    "boundary_matrix\n",
    "\n",
    "Sbb=boundary_matrix[:,0:6]\n",
    "df=pd.DataFrame(Sbb)\n",
    "np.linalg.inv(Sbb)\n",
    "\n"
   ]
  },
  {
   "cell_type": "code",
   "execution_count": 1226,
   "metadata": {},
   "outputs": [
    {
     "data": {
      "text/plain": [
       "(38, 6)"
      ]
     },
     "execution_count": 1226,
     "metadata": {},
     "output_type": "execute_result"
    }
   ],
   "source": [
    "S=E_6_diff+E_5_diff+E_4_diff_alpha1+E_3_diff-E_2_diff_alpha1\n",
    "S.shape\n",
    "Sdb=S[1:N-1,0:6]\n",
    "Sdb.shape"
   ]
  },
  {
   "cell_type": "code",
   "execution_count": 1227,
   "metadata": {},
   "outputs": [
    {
     "data": {
      "text/plain": [
       "(6, 38)"
      ]
     },
     "execution_count": 1227,
     "metadata": {},
     "output_type": "execute_result"
    }
   ],
   "source": [
    "Sbd=boundary_matrix[:,6:]\n",
    "Sbd.shape"
   ]
  },
  {
   "cell_type": "code",
   "execution_count": 1228,
   "metadata": {},
   "outputs": [
    {
     "data": {
      "text/plain": [
       "(38, 38)"
      ]
     },
     "execution_count": 1228,
     "metadata": {},
     "output_type": "execute_result"
    }
   ],
   "source": [
    "Sdd=S[1:N-1,6:]\n",
    "Sdd.shape"
   ]
  },
  {
   "cell_type": "code",
   "execution_count": 1229,
   "metadata": {},
   "outputs": [],
   "source": [
    "Q=(aplha2**2)*E_4-E_2\n",
    "Qdb=Q[1:N-1,0:6]\n",
    "Qdd=Q[1:N-1,6:]"
   ]
  },
  {
   "cell_type": "code",
   "execution_count": 1230,
   "metadata": {},
   "outputs": [
    {
     "data": {
      "text/plain": [
       "(38, 38)"
      ]
     },
     "execution_count": 1230,
     "metadata": {},
     "output_type": "execute_result"
    }
   ],
   "source": [
    "term=Sdd-Sdb@np.linalg.inv(Sbb)@Sbd-Qdb@np.linalg.inv(Sbb)@Sbd\n",
    "term.shape"
   ]
  },
  {
   "cell_type": "code",
   "execution_count": 1231,
   "metadata": {},
   "outputs": [
    {
     "data": {
      "text/plain": [
       "array([ 4.00649064,  4.0259835 ,  4.05854061,  4.1042628 ,  4.16328589,\n",
       "        4.23577516,  4.32191814,  4.42191553,  4.53597016,  4.66427395,\n",
       "        4.80699271,  4.9642488 ,  5.13610167,  5.32252641,  5.52339064,\n",
       "        5.73842986,  5.96722213,  6.20916248,  6.46343811,  6.7290053 ,\n",
       "        7.00456936,  7.28856884,  7.57916544,  7.87424104,  8.17140318,\n",
       "        8.46800007,  8.76114614,  9.04775851,  9.32460437,  9.58835878,\n",
       "        9.83567166, 10.06324225, 10.26789846, 10.44667852, 10.59691141,\n",
       "       10.71629275, 10.80295267, 10.8555125 ])"
      ]
     },
     "execution_count": 1231,
     "metadata": {},
     "output_type": "execute_result"
    }
   ],
   "source": [
    "np.linalg.eigvals(term)"
   ]
  },
  {
   "cell_type": "code",
   "execution_count": null,
   "metadata": {},
   "outputs": [],
   "source": []
  },
  {
   "cell_type": "code",
   "execution_count": null,
   "metadata": {},
   "outputs": [],
   "source": []
  }
 ],
 "metadata": {
  "kernelspec": {
   "display_name": "Python 3",
   "language": "python",
   "name": "python3"
  },
  "language_info": {
   "codemirror_mode": {
    "name": "ipython",
    "version": 3
   },
   "file_extension": ".py",
   "mimetype": "text/x-python",
   "name": "python",
   "nbconvert_exporter": "python",
   "pygments_lexer": "ipython3",
   "version": "3.10.7"
  },
  "orig_nbformat": 4
 },
 "nbformat": 4,
 "nbformat_minor": 2
}
